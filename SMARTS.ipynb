{
  "nbformat": 4,
  "nbformat_minor": 0,
  "metadata": {
    "colab": {
      "name": "SMARTS.ipynb",
      "provenance": [],
      "include_colab_link": true
    },
    "kernelspec": {
      "name": "python3",
      "display_name": "Python 3"
    }
  },
  "cells": [
    {
      "cell_type": "markdown",
      "metadata": {
        "id": "view-in-github",
        "colab_type": "text"
      },
      "source": [
        "<a href=\"https://colab.research.google.com/github/JungMinNoh/jungminnoh/blob/master/SMARTS.ipynb\" target=\"_parent\"><img src=\"https://colab.research.google.com/assets/colab-badge.svg\" alt=\"Open In Colab\"/></a>"
      ]
    },
    {
      "cell_type": "code",
      "metadata": {
        "id": "sNZjJ9Iou364",
        "colab_type": "code",
        "colab": {
          "base_uri": "https://localhost:8080/",
          "height": 176
        },
        "outputId": "45b4eead-df63-4462-a3d4-ae451f80bc52"
      },
      "source": [
        "import sys\n",
        "import os\n",
        "import requests\n",
        "import subprocess\n",
        "import shutil\n",
        "from logging import getLogger, StreamHandler, INFO\n",
        "\n",
        "\n",
        "logger = getLogger(__name__)\n",
        "logger.addHandler(StreamHandler())\n",
        "logger.setLevel(INFO)\n",
        "\n",
        "\n",
        "def install(\n",
        "        chunk_size=4096,\n",
        "        file_name=\"Miniconda3-latest-Linux-x86_64.sh\",\n",
        "        url_base=\"https://repo.continuum.io/miniconda/\",\n",
        "        conda_path=os.path.expanduser(os.path.join(\"~\", \"miniconda\")),\n",
        "        rdkit_version=None,\n",
        "        add_python_path=True,\n",
        "        force=False):\n",
        "    \"\"\"install rdkit from miniconda\n",
        "    ```\n",
        "    import rdkit_installer\n",
        "    rdkit_installer.install()\n",
        "    ```\n",
        "    \"\"\"\n",
        "\n",
        "    python_path = os.path.join(\n",
        "        conda_path,\n",
        "        \"lib\",\n",
        "        \"python{0}.{1}\".format(*sys.version_info),\n",
        "        \"site-packages\",\n",
        "    )\n",
        "\n",
        "    if add_python_path and python_path not in sys.path:\n",
        "        logger.info(\"add {} to PYTHONPATH\".format(python_path))\n",
        "        sys.path.append(python_path)\n",
        "\n",
        "    if os.path.isdir(os.path.join(python_path, \"rdkit\")):\n",
        "        logger.info(\"rdkit is already installed\")\n",
        "        if not force:\n",
        "            return\n",
        "\n",
        "        logger.info(\"force re-install\")\n",
        "\n",
        "    url = url_base + file_name\n",
        "    python_version = \"{0}.{1}.{2}\".format(*sys.version_info)\n",
        "\n",
        "    logger.info(\"python version: {}\".format(python_version))\n",
        "\n",
        "    if os.path.isdir(conda_path):\n",
        "        logger.warning(\"remove current miniconda\")\n",
        "        shutil.rmtree(conda_path)\n",
        "    elif os.path.isfile(conda_path):\n",
        "        logger.warning(\"remove {}\".format(conda_path))\n",
        "        os.remove(conda_path)\n",
        "\n",
        "    logger.info('fetching installer from {}'.format(url))\n",
        "    res = requests.get(url, stream=True)\n",
        "    res.raise_for_status()\n",
        "    with open(file_name, 'wb') as f:\n",
        "        for chunk in res.iter_content(chunk_size):\n",
        "            f.write(chunk)\n",
        "    logger.info('done')\n",
        "\n",
        "    logger.info('installing miniconda to {}'.format(conda_path))\n",
        "    subprocess.check_call([\"bash\", file_name, \"-b\", \"-p\", conda_path])\n",
        "    logger.info('done')\n",
        "\n",
        "    logger.info(\"installing rdkit\")\n",
        "    subprocess.check_call([\n",
        "        os.path.join(conda_path, \"bin\", \"conda\"),\n",
        "        \"install\",\n",
        "        \"--yes\",\n",
        "        \"-c\", \"rdkit\",\n",
        "        \"python=={}\".format(python_version),\n",
        "        \"rdkit\" if rdkit_version is None else \"rdkit=={}\".format(rdkit_version)])\n",
        "    logger.info(\"done\")\n",
        "\n",
        "    import rdkit\n",
        "    logger.info(\"rdkit-{} installation finished!\".format(rdkit.__version__))\n",
        "\n",
        "\n",
        "if __name__ == \"__main__\":\n",
        "    install()"
      ],
      "execution_count": 1,
      "outputs": [
        {
          "output_type": "stream",
          "text": [
            "add /root/miniconda/lib/python3.6/site-packages to PYTHONPATH\n",
            "python version: 3.6.8\n",
            "fetching installer from https://repo.continuum.io/miniconda/Miniconda3-latest-Linux-x86_64.sh\n",
            "done\n",
            "installing miniconda to /root/miniconda\n",
            "done\n",
            "installing rdkit\n",
            "done\n",
            "rdkit-2019.09.1 installation finished!\n"
          ],
          "name": "stderr"
        }
      ]
    },
    {
      "cell_type": "code",
      "metadata": {
        "id": "69JF1x0uu4i6",
        "colab_type": "code",
        "colab": {}
      },
      "source": [
        "from rdkit import Chem\n",
        "from rdkit.Chem import AllChem\n",
        "from rdkit.Chem.Draw import IPythonConsole\n",
        "from rdkit.Chem import Draw"
      ],
      "execution_count": 0,
      "outputs": []
    },
    {
      "cell_type": "markdown",
      "metadata": {
        "id": "47d8hJ9rxO3u",
        "colab_type": "text"
      },
      "source": [
        "#SMARTS (SMiles ARbitrary Target Specification)"
      ]
    },
    {
      "cell_type": "markdown",
      "metadata": {
        "id": "NsQan3SexYcl",
        "colab_type": "text"
      },
      "source": [
        "##SMARTS의 정의\n",
        "SMiles ARbitrary Target Specification 의 약자로, 앞서 SMILES을 기반으로 하고 추가적인 규칙들로 이루어져 있으며 특정 작용기를 강조하거나, 데이터베이스에서 유사 구조, 특성을 가진 물질을 찾는데 더 유용하다."
      ]
    },
    {
      "cell_type": "markdown",
      "metadata": {
        "id": "JwjhDWK0xdnW",
        "colab_type": "text"
      },
      "source": [
        "##SMILES와의 차이점\n",
        "SMILES와 SMARTS의 차이점 중 아래 표에 나타낸 것은 더 명확한표현(High Specificity)와 덜 명확한 표현(Low Specificity)를 의미한다.\n",
        "[CH4] 은 명확하게 수소원자를 4개 가진 탄소원자를 의미하며, SMILES 에서 C와 같다. 그러나 SMARTS에서는 C는 단순히 탄소원자, 즉 수소원자가 얼마나 결합하고 있는지는 포함하지 않는다. "
      ]
    },
    {
      "cell_type": "markdown",
      "metadata": {
        "id": "dUQ-cplXxoHg",
        "colab_type": "text"
      },
      "source": [
        "| SMILE | | SMARTS ||\n",
        "|:----------|:----------:|----------:|----------:|\n",
        "| [CH4]  | methane | [CH4] |methane|\n",
        "| C | methane | C |`carbon atoms` with any number of hydrogens|\n"
      ]
    },
    {
      "cell_type": "markdown",
      "metadata": {
        "id": "rXklqJKQy3vK",
        "colab_type": "text"
      },
      "source": [
        "이를 RDkit의 함수를 이용하여 확인하면 아래와 같다.  \n",
        "‘확인할 화합물’.GetSubstructMatch(‘비교대상’)\n",
        "확인할 화합물에 비교대상이 포함 된다면 일치하는 순서의 위치를 결과값으로 보여준다. 만약 중복되는 위치가 있다면 순서가 앞쪽인 원자만 확인한다. 포함이 되지 않는다면 ()을 출력한다.\n",
        "을 의미하는 'CC'를 확인하면 [CH4]으로는 포함되는 부분이 없지만, C로 확인한 경우는 수소원자의 개수에 상관없이 C를 포함한다고 인식한다."
      ]
    },
    {
      "cell_type": "code",
      "metadata": {
        "id": "RXOnsvwDxV7_",
        "colab_type": "code",
        "colab": {
          "base_uri": "https://localhost:8080/",
          "height": 34
        },
        "outputId": "4a7c074b-0a63-47ee-c429-002b66adb96c"
      },
      "source": [
        "AllChem.MolFromSmiles('CC').GetSubstructMatch(AllChem.MolFromSmarts('[CH4]'))"
      ],
      "execution_count": 4,
      "outputs": [
        {
          "output_type": "execute_result",
          "data": {
            "text/plain": [
              "()"
            ]
          },
          "metadata": {
            "tags": []
          },
          "execution_count": 4
        }
      ]
    },
    {
      "cell_type": "code",
      "metadata": {
        "id": "Z4bTFsFcy-88",
        "colab_type": "code",
        "colab": {
          "base_uri": "https://localhost:8080/",
          "height": 34
        },
        "outputId": "54d5c70b-a781-4877-8172-5b04a53d6fbb"
      },
      "source": [
        "AllChem.MolFromSmiles('CC').GetSubstructMatch(AllChem.MolFromSmarts('C'))"
      ],
      "execution_count": 5,
      "outputs": [
        {
          "output_type": "execute_result",
          "data": {
            "text/plain": [
              "(0,)"
            ]
          },
          "metadata": {
            "tags": []
          },
          "execution_count": 5
        }
      ]
    },
    {
      "cell_type": "markdown",
      "metadata": {
        "id": "65ASYzvIzCmF",
        "colab_type": "text"
      },
      "source": [
        "##SMARTS의 규칙"
      ]
    },
    {
      "cell_type": "markdown",
      "metadata": {
        "id": "xzgyme-fzQfW",
        "colab_type": "text"
      },
      "source": [
        "| 표현 | 표현이름 | 의미 |기본값|\n",
        "|:----------|:----------:|----------:|----------:|\n",
        "| *  | wildcard (무작위) | any atom |-|\n",
        "| a  | aromatic | aromatic |-|\n",
        "| A  | aliphatic | aliphatic |-|\n",
        "| D< n>  | degree | < n>explicit connections |1|\n",
        "| H< n>  | total-H-count | < n>attached hydrogens |1|\n",
        "| h< n>  |implicit-H-count | < n> implicit hydrogens |최소1|\n",
        "| R< n>  | ring membership |in < n>SSSR rings |-|\n",
        "| r< n>  | ring size | in smallest SSSR ring of size < n> |-|\n",
        "| v< n>  | valence | total bond order < n> |1|\n",
        "| X< n>  | connectivity | < n> total connections |1|\n",
        "| x< n>  | ring connectivity | < n> total ring connections |최소1|\n",
        "| -< n>  | negative charge\t | - < n> charge |-1|\n",
        "| +< n>  | positive charge | + < n> formal charge |+1|\n",
        "| #n  | atomic number | atomic number < n> |-|\n",
        "| @  | chirality\t | anticlockwise |반시계|\n",
        "| @@  | chirality\t | clockwise |시계방향|\n",
        "| < n> | atomic mass | explicit atomic mass |-|\n"
      ]
    },
    {
      "cell_type": "code",
      "metadata": {
        "id": "Ykg8upHU0yd6",
        "colab_type": "code",
        "colab": {}
      },
      "source": [
        "ex1 = AllChem.MolFromSmarts('[#6]')"
      ],
      "execution_count": 0,
      "outputs": []
    },
    {
      "cell_type": "code",
      "metadata": {
        "id": "ZgB4IFFr1FNX",
        "colab_type": "code",
        "colab": {
          "base_uri": "https://localhost:8080/",
          "height": 166
        },
        "outputId": "1f118170-823f-436c-e932-d891c447b878"
      },
      "source": [
        "ex1"
      ],
      "execution_count": 7,
      "outputs": [
        {
          "output_type": "execute_result",
          "data": {
            "image/png": "[encoded data removed]",
            "text/plain": [
              "<rdkit.Chem.rdchem.Mol at 0x7f542fe14e40>"
            ]
          },
          "metadata": {
            "tags": []
          },
          "execution_count": 7
        }
      ]
    },
    {
      "cell_type": "code",
      "metadata": {
        "id": "QVN5Rvk21GUW",
        "colab_type": "code",
        "colab": {
          "base_uri": "https://localhost:8080/",
          "height": 166
        },
        "outputId": "20617642-5d97-458c-f720-b93d9f99d702"
      },
      "source": [
        "ex1 = AllChem.MolFromSmarts('C[C@H](F)O')\n",
        "ex1"
      ],
      "execution_count": 8,
      "outputs": [
        {
          "output_type": "execute_result",
          "data": {
            "image/png": "[encoded data removed]",
            "text/plain": [
              "<rdkit.Chem.rdchem.Mol at 0x7f542fe14d50>"
            ]
          },
          "metadata": {
            "tags": []
          },
          "execution_count": 8
        }
      ]
    },
    {
      "cell_type": "code",
      "metadata": {
        "id": "zsZorNbC1IIu",
        "colab_type": "code",
        "colab": {
          "base_uri": "https://localhost:8080/",
          "height": 166
        },
        "outputId": "f465e9ad-eefc-42ec-c005-2f941cc6515c"
      },
      "source": [
        "ex2 = Chem.MolFromSmarts('C[C@@H](F)O')\n",
        "ex2"
      ],
      "execution_count": 9,
      "outputs": [
        {
          "output_type": "execute_result",
          "data": {
            "image/png": "[encoded data removed]",
            "text/plain": [
              "<rdkit.Chem.rdchem.Mol at 0x7f542fe24210>"
            ]
          },
          "metadata": {
            "tags": []
          },
          "execution_count": 9
        }
      ]
    },
    {
      "cell_type": "markdown",
      "metadata": {
        "id": "YIOnu2G-1Prw",
        "colab_type": "text"
      },
      "source": [
        "## Bond Primitives (결합 표현)\n",
        "결합에 대한 표현들은 아래와 같다. 결합을 표시하지 않으면 단일결합 또는 방향족 결합으로 인식한다."
      ]
    },
    {
      "cell_type": "markdown",
      "metadata": {
        "id": "O5AbFgTl1jSI",
        "colab_type": "text"
      },
      "source": [
        "| 표현 | 표현이름 | \n",
        "|:----------|:----------:|\n",
        "| - | 단일결합 | \n",
        "| / | 위쪽 방향으로 결합 | \n",
        "| \\ | 아래쪽 방향으로 결합 | \n",
        "| /? | 위쪽 방향 또는 모르는 결합 | \n",
        "| \\? | 아래쪽 방향 또는 모르는 결합 | \n",
        "| = | 이중결합 | \n",
        "| # | 삼중결합 | \n",
        "| : | 방향족 결합 | \n",
        "| ~ | Wild Card (결합 중 어떤것 하나) | \n",
        "| @ | 고리결합 | \n",
        "\n"
      ]
    },
    {
      "cell_type": "markdown",
      "metadata": {
        "id": "rdZuK5Y-2Ez0",
        "colab_type": "text"
      },
      "source": [
        "아래의 예시를 통해 확인할 수 있다."
      ]
    },
    {
      "cell_type": "code",
      "metadata": {
        "id": "XI5KYujz1J6n",
        "colab_type": "code",
        "colab": {
          "base_uri": "https://localhost:8080/",
          "height": 166
        },
        "outputId": "330881e3-2894-472a-8741-c388349e2954"
      },
      "source": [
        "m1 = AllChem.MolFromSmarts('CC')\n",
        "m1"
      ],
      "execution_count": 11,
      "outputs": [
        {
          "output_type": "execute_result",
          "data": {
            "image/png": "[encoded data removed]",
            "text/plain": [
              "<rdkit.Chem.rdchem.Mol at 0x7f542fe24170>"
            ]
          },
          "metadata": {
            "tags": []
          },
          "execution_count": 11
        }
      ]
    },
    {
      "cell_type": "code",
      "metadata": {
        "id": "PATdyP5L2GjD",
        "colab_type": "code",
        "colab": {
          "base_uri": "https://localhost:8080/",
          "height": 166
        },
        "outputId": "f19771a2-87df-402d-c974-89c331c8a3fc"
      },
      "source": [
        "mol = AllChem.MolFromSmarts('C-C') #단일결합의 결과\n",
        "mol"
      ],
      "execution_count": 14,
      "outputs": [
        {
          "output_type": "execute_result",
          "data": {
            "image/png": "[encoded data removed]",
            "text/plain": [
              "<rdkit.Chem.rdchem.Mol at 0x7f542fe24a80>"
            ]
          },
          "metadata": {
            "tags": []
          },
          "execution_count": 14
        }
      ]
    },
    {
      "cell_type": "code",
      "metadata": {
        "id": "1me44Ph82KVs",
        "colab_type": "code",
        "colab": {
          "base_uri": "https://localhost:8080/",
          "height": 166
        },
        "outputId": "89504116-4413-4bae-e8d2-26dc8bf96a76"
      },
      "source": [
        "mol = AllChem.MolFromSmarts('c:c') #방향족 결합의 결과\n",
        "mol"
      ],
      "execution_count": 15,
      "outputs": [
        {
          "output_type": "execute_result",
          "data": {
            "image/png": "[encoded data removed]",
            "text/plain": [
              "<rdkit.Chem.rdchem.Mol at 0x7f542fe242b0>"
            ]
          },
          "metadata": {
            "tags": []
          },
          "execution_count": 15
        }
      ]
    },
    {
      "cell_type": "code",
      "metadata": {
        "id": "rVATNdw22N2E",
        "colab_type": "code",
        "colab": {
          "base_uri": "https://localhost:8080/",
          "height": 166
        },
        "outputId": "d21bc129-5f60-46f6-ba2a-672c32d0fbe4"
      },
      "source": [
        "mol = AllChem.MolFromSmarts('c#c') #삼중 결합의 결과\n",
        "mol"
      ],
      "execution_count": 18,
      "outputs": [
        {
          "output_type": "execute_result",
          "data": {
            "image/png": "[encoded data removed]",
            "text/plain": [
              "<rdkit.Chem.rdchem.Mol at 0x7f542fe321c0>"
            ]
          },
          "metadata": {
            "tags": []
          },
          "execution_count": 18
        }
      ]
    },
    {
      "cell_type": "markdown",
      "metadata": {
        "id": "EC8WgTjM2gkx",
        "colab_type": "text"
      },
      "source": [
        "## Logical Operators (논리적 연산자)\n",
        "원자, 결합에 대한 정보를 의미하는 규칙 이외에도 집합에서 교집합, 여집합과 같은 논리적인 의미를 가진 표현이 있다."
      ]
    },
    {
      "cell_type": "markdown",
      "metadata": {
        "id": "FukiTsbW2mJR",
        "colab_type": "text"
      },
      "source": [
        "| 기호 | 표현 | 의미|  \n",
        "|:----------|:----------:|:----------:|\n",
        "| 느낌표 (!) | !e1 | e1 을 제외| \n",
        "| Ampersand (&) | e1&e2 | e1 그리고 e2| \n",
        "| 반점 (,) | e1,e2 | e1 또는 e2 | \n",
        "| 쌍반점(semicolon, ;) | e1;e2 | e1 그리고 e2 | \n",
        "\n"
      ]
    },
    {
      "cell_type": "code",
      "metadata": {
        "id": "Qx1o-0d72Y23",
        "colab_type": "code",
        "colab": {}
      },
      "source": [
        ""
      ],
      "execution_count": 0,
      "outputs": []
    },
    {
      "cell_type": "markdown",
      "metadata": {
        "id": "LdVbPmfi3D22",
        "colab_type": "text"
      },
      "source": [
        "## Recursive SMARTS (반복되는 표현의 줄임)\n"
      ]
    },
    {
      "cell_type": "code",
      "metadata": {
        "id": "GvDPkARK3E53",
        "colab_type": "code",
        "colab": {}
      },
      "source": [
        "#‘$’를 이용하여 둘 이상의 중복되는 표현이 있을때, 중복되는 부분을 하나로 줄이면서 ‘$’를 이용한다."
      ],
      "execution_count": 0,
      "outputs": []
    },
    {
      "cell_type": "markdown",
      "metadata": {
        "id": "Usn_0yqh3XeG",
        "colab_type": "text"
      },
      "source": [
        "## Reaction Queires(반응식 표현)"
      ]
    },
    {
      "cell_type": "markdown",
      "metadata": {
        "id": "ZI8_WBck3Z4w",
        "colab_type": "text"
      },
      "source": [
        "앞서 SMILES에서와 마찬가지로 반응식은 반응물, 중간체, 생성물로 구성되어있고 그 사이를 ‘>’로 구분한다. 또한 Atom Map도 동일하게 적용된다."
      ]
    },
    {
      "cell_type": "markdown",
      "metadata": {
        "id": "iSfdcs_C3mox",
        "colab_type": "text"
      },
      "source": [
        "#활용\n",
        "\n",
        "SMILES와 SMARTS를 통해 다양하게 활용할 수 있다. 데이터 베이스에서 특정 성질, 구조를 가진 분자들을 찾거나 반응식을 적용시켜 생성물을 결과로써 확인할 수 있다."
      ]
    },
    {
      "cell_type": "markdown",
      "metadata": {
        "id": "eDM5Vv9C3sdd",
        "colab_type": "text"
      },
      "source": [
        "같은 구조를 가졌는지 확인할 수 있는 예시"
      ]
    },
    {
      "cell_type": "code",
      "metadata": {
        "id": "uvpKzfEB3o4I",
        "colab_type": "code",
        "colab": {
          "base_uri": "https://localhost:8080/",
          "height": 166
        },
        "outputId": "58fba2e1-2457-4fa6-8ca1-93648fb3fff6"
      },
      "source": [
        "m = Chem.MolFromSmiles('C/C=C/CC(C)C(O)C1C(=O)NC(CC)C(=O)N(C)CC(=O)N(C)C(CC(C)C)C(=O)NC(C(C)C)C(=O)N(C)C(CC(C)C)C(=O)NC(C)C(=O)NC(C)C(=O)N(C)C(CC(C)C)C(=O)N(C)C(CC(C)C)C(=O)N(C)C(C(C)C)C(=O)N1C') #m 결과\n",
        "m"
      ],
      "execution_count": 27,
      "outputs": [
        {
          "output_type": "execute_result",
          "data": {
            "image/png": "[encoded data removed]",
            "text/plain": [
              "<rdkit.Chem.rdchem.Mol at 0x7f542fd02170>"
            ]
          },
          "metadata": {
            "tags": []
          },
          "execution_count": 27
        }
      ]
    },
    {
      "cell_type": "code",
      "metadata": {
        "id": "rGgVra0t3vhw",
        "colab_type": "code",
        "colab": {
          "base_uri": "https://localhost:8080/",
          "height": 166
        },
        "outputId": "861bd426-f28a-40d6-8993-81143d261680"
      },
      "source": [
        "core =Chem.MolFromSmiles('C1C(=O)NCC(=O)NCC(=O)NCC(=O)NCC(=O)NCC(=O)NCC(=O)NCC(=O)NCC(=O)NCC(=O)NCC(=O)N1') #core 결과\n",
        "core"
      ],
      "execution_count": 26,
      "outputs": [
        {
          "output_type": "execute_result",
          "data": {
            "image/png": "[encoded data removed]",
            "text/plain": [
              "<rdkit.Chem.rdchem.Mol at 0x7f542fcfdf80>"
            ]
          },
          "metadata": {
            "tags": []
          },
          "execution_count": 26
        }
      ]
    },
    {
      "cell_type": "code",
      "metadata": {
        "id": "BOqTDUdo35K5",
        "colab_type": "code",
        "colab": {
          "base_uri": "https://localhost:8080/",
          "height": 166
        },
        "outputId": "e3ca92c8-0ef3-4ee1-bf9a-88e89caf9a6a"
      },
      "source": [
        "m.GetSubstructMatch(core) #m과 core의 합\n",
        "m"
      ],
      "execution_count": 25,
      "outputs": [
        {
          "output_type": "execute_result",
          "data": {
            "image/png": "[encoded data removed]",
            "text/plain": [
              "<rdkit.Chem.rdchem.Mol at 0x7f542fce3e40>"
            ]
          },
          "metadata": {
            "tags": []
          },
          "execution_count": 25
        }
      ]
    },
    {
      "cell_type": "markdown",
      "metadata": {
        "id": "iUZClZJ13-_g",
        "colab_type": "text"
      },
      "source": [
        "m에 저장되어있는 화합물에 뼈대를 이루고 있는 core를 표현할 수 있다."
      ]
    },
    {
      "cell_type": "markdown",
      "metadata": {
        "id": "9SeJXu-p4Gin",
        "colab_type": "text"
      },
      "source": [
        "## 특성 확인하기"
      ]
    },
    {
      "cell_type": "code",
      "metadata": {
        "id": "emnk0Oq-38q6",
        "colab_type": "code",
        "colab": {
          "base_uri": "https://localhost:8080/",
          "height": 416
        },
        "outputId": "c0defa26-2964-4ddf-c805-8335737e4a29"
      },
      "source": [
        "naphthalene = Chem.MolFromSmiles('c12ccccc1cccc2')\n",
        "benzoxazole = Chem.MolFromSmiles('n1c2ccccc2oc1')\n",
        "indane = Chem.MolFromSmiles('c1ccc2c(c1)CCC2')\n",
        "skatole = Chem.MolFromSmiles('CC1=CNC2=CC=CC=C12')\n",
        "benzene = Chem.MolFromSmiles('c1ccccc1')\n",
        "quinoline = Chem.MolFromSmiles('n1cccc2ccccc12')\n",
        "my_molecules = [naphthalene, \n",
        "                benzoxazole,\n",
        "                indane,\n",
        "                skatole,\n",
        "                benzene,\n",
        "                quinoline, ]\n",
        "Draw.MolsToGridImage(my_molecules, useSVG=False)"
      ],
      "execution_count": 29,
      "outputs": [
        {
          "output_type": "execute_result",
          "data": {
            "image/png": "[encoded data removed]",
            "text/plain": [
              "<PIL.PngImagePlugin.PngImageFile image mode=RGB size=600x400 at 0x7F542FC89828>"
            ]
          },
          "metadata": {
            "tags": []
          },
          "execution_count": 29
        }
      ]
    },
    {
      "cell_type": "code",
      "metadata": {
        "id": "YHZtppnY4RZ-",
        "colab_type": "code",
        "colab": {
          "base_uri": "https://localhost:8080/",
          "height": 34
        },
        "outputId": "3b7afaa3-45e1-4562-c51e-0f9d2b6ecf32"
      },
      "source": [
        "is_in_two_rings = Chem.MolFromSmarts('[R2]') # '[R2]'를 이용해 고리를 2개 가진 분자들에만 True로써 반환한다.\n",
        "[mol.HasSubstructMatch(is_in_two_rings) for mol in my_molecules] "
      ],
      "execution_count": 33,
      "outputs": [
        {
          "output_type": "execute_result",
          "data": {
            "text/plain": [
              "[True, True, True, True, False, True]"
            ]
          },
          "metadata": {
            "tags": []
          },
          "execution_count": 33
        }
      ]
    },
    {
      "cell_type": "code",
      "metadata": {
        "id": "UhmE1YMp5eAQ",
        "colab_type": "code",
        "colab": {
          "base_uri": "https://localhost:8080/",
          "height": 216
        },
        "outputId": "b8f5b902-b365-4c1a-ce4a-600ee232530a"
      },
      "source": [
        "mol1 = Chem.MolFromSmiles('c1ccccc1')\n",
        "mol2 = Chem.MolFromSmiles('o1cccc1')\n",
        "mol3 = Chem.MolFromSmiles('C1CCCCC1')\n",
        "my_mol = [mol1,mol2,mol3] #방향족 & 지방족 분자 집합\n",
        "Draw.MolsToGridImage(my_mol, useSVG=False)"
      ],
      "execution_count": 35,
      "outputs": [
        {
          "output_type": "execute_result",
          "data": {
            "image/png": "[encoded data removed]",
            "text/plain": [
              "<PIL.PngImagePlugin.PngImageFile image mode=RGB size=600x200 at 0x7F542FC89CF8>"
            ]
          },
          "metadata": {
            "tags": []
          },
          "execution_count": 35
        }
      ]
    },
    {
      "cell_type": "code",
      "metadata": {
        "id": "Fm2mLXFa5rgW",
        "colab_type": "code",
        "colab": {
          "base_uri": "https://localhost:8080/",
          "height": 34
        },
        "outputId": "d8630ecd-5b8f-48a1-b75b-2e80cd3d1fe0"
      },
      "source": [
        "aromatic = Chem.MolFromSmarts('c') #방향족 탄소원자 'c'를 가졌는지 확인한다.\n",
        "[mol.HasSubstructMatch(aromatic) for mol in my_mol]"
      ],
      "execution_count": 36,
      "outputs": [
        {
          "output_type": "execute_result",
          "data": {
            "text/plain": [
              "[True, True, False]"
            ]
          },
          "metadata": {
            "tags": []
          },
          "execution_count": 36
        }
      ]
    },
    {
      "cell_type": "code",
      "metadata": {
        "id": "FlxMTa4I55_7",
        "colab_type": "code",
        "colab": {
          "base_uri": "https://localhost:8080/",
          "height": 216
        },
        "outputId": "81b8df51-d67d-4e0c-8756-7b6b4faa4e2e"
      },
      "source": [
        "mol1 = Chem.MolFromSmiles('c1ccccc1')\n",
        "mol2 = Chem.MolFromSmiles('CCCCCC')\n",
        "mol3 = Chem.MolFromSmiles('C1CCCCC1')\n",
        "my_mol = [mol1,mol2,mol3] #분자 집합\n",
        "Draw.MolsToGridImage(my_mol, useSVG=False)"
      ],
      "execution_count": 38,
      "outputs": [
        {
          "output_type": "execute_result",
          "data": {
            "image/png": "[encoded data removed]",
            "text/plain": [
              "<PIL.PngImagePlugin.PngImageFile image mode=RGB size=600x200 at 0x7F542FC89DA0>"
            ]
          },
          "metadata": {
            "tags": []
          },
          "execution_count": 38
        }
      ]
    },
    {
      "cell_type": "code",
      "metadata": {
        "id": "B1t4LEAm6By0",
        "colab_type": "code",
        "colab": {
          "base_uri": "https://localhost:8080/",
          "height": 34
        },
        "outputId": "761a0008-b0f4-4be3-9c37-37abdf953e28"
      },
      "source": [
        "noaromatic = Chem.MolFromSmarts('[!c]')\n",
        "[mol.HasSubstructMatch(noaromatic) for mol in my_mol]"
      ],
      "execution_count": 39,
      "outputs": [
        {
          "output_type": "execute_result",
          "data": {
            "text/plain": [
              "[False, True, True]"
            ]
          },
          "metadata": {
            "tags": []
          },
          "execution_count": 39
        }
      ]
    },
    {
      "cell_type": "code",
      "metadata": {
        "id": "FEZt3-sz6KNe",
        "colab_type": "code",
        "colab": {
          "base_uri": "https://localhost:8080/",
          "height": 34
        },
        "outputId": "25be01b6-0360-449c-c6f7-f954189dcd47"
      },
      "source": [
        "no1 = Chem.MolFromSmarts('[R]')\n",
        "[mol.HasSubstructMatch(no1) for mol in my_mol]"
      ],
      "execution_count": 41,
      "outputs": [
        {
          "output_type": "execute_result",
          "data": {
            "text/plain": [
              "[True, False, True]"
            ]
          },
          "metadata": {
            "tags": []
          },
          "execution_count": 41
        }
      ]
    },
    {
      "cell_type": "code",
      "metadata": {
        "id": "RuPv6N3l6ZSR",
        "colab_type": "code",
        "colab": {
          "base_uri": "https://localhost:8080/",
          "height": 34
        },
        "outputId": "a4082b5b-0a99-47f1-d5c8-62b8da833f6d"
      },
      "source": [
        "no2 = Chem.MolFromSmarts('[!c&R]')\n",
        "[mol.HasSubstructMatch(no2) for mol in my_mol]"
      ],
      "execution_count": 42,
      "outputs": [
        {
          "output_type": "execute_result",
          "data": {
            "text/plain": [
              "[False, False, True]"
            ]
          },
          "metadata": {
            "tags": []
          },
          "execution_count": 42
        }
      ]
    },
    {
      "cell_type": "code",
      "metadata": {
        "id": "jkIgyVot6cv5",
        "colab_type": "code",
        "colab": {
          "base_uri": "https://localhost:8080/",
          "height": 34
        },
        "outputId": "963d8de9-9e21-4a8c-9b81-697852941db5"
      },
      "source": [
        "no3 = Chem.MolFromSmarts('[!c,R]')\n",
        "[mol.HasSubstructMatch(no3) for mol in my_mol]"
      ],
      "execution_count": 43,
      "outputs": [
        {
          "output_type": "execute_result",
          "data": {
            "text/plain": [
              "[True, True, True]"
            ]
          },
          "metadata": {
            "tags": []
          },
          "execution_count": 43
        }
      ]
    },
    {
      "cell_type": "markdown",
      "metadata": {
        "id": "gpIdBIUY6gUp",
        "colab_type": "text"
      },
      "source": [
        "또한 논리적 연산자들을 이용해 둘 이상의 조건을 확인할 수 있다."
      ]
    },
    {
      "cell_type": "code",
      "metadata": {
        "id": "MZ3XGvbe6fvr",
        "colab_type": "code",
        "colab": {
          "base_uri": "https://localhost:8080/",
          "height": 216
        },
        "outputId": "565bd048-3f00-4abc-ec65-b3cff422f715"
      },
      "source": [
        "mol1 = Chem.MolFromSmiles('c1c(O)c(N)ccc1')\n",
        "mol2 = Chem.MolFromSmiles('c1c(O)cc(N)cc1')\n",
        "mol3 = Chem.MolFromSmiles('c1c(O)ccc(N)c1')\n",
        "my_mol = [mol1,mol2,mol3] #분자집합\n",
        "Draw.MolsToGridImage(my_mol, useSVG=False)"
      ],
      "execution_count": 46,
      "outputs": [
        {
          "output_type": "execute_result",
          "data": {
            "image/png": "[encoded data removed]",
            "text/plain": [
              "<PIL.PngImagePlugin.PngImageFile image mode=RGB size=600x200 at 0x7F542FC33400>"
            ]
          },
          "metadata": {
            "tags": []
          },
          "execution_count": 46
        }
      ]
    },
    {
      "cell_type": "code",
      "metadata": {
        "id": "QavGoj286lTD",
        "colab_type": "code",
        "colab": {
          "base_uri": "https://localhost:8080/",
          "height": 34
        },
        "outputId": "2f747ac1-0b0b-4eb8-b881-b1b34a33f507"
      },
      "source": [
        "no6 = Chem.MolFromSmarts('[#6]aaO') \n",
        "[mol.HasSubstructMatch(no6) for mol in my_mol]"
      ],
      "execution_count": 47,
      "outputs": [
        {
          "output_type": "execute_result",
          "data": {
            "text/plain": [
              "[True, True, True]"
            ]
          },
          "metadata": {
            "tags": []
          },
          "execution_count": 47
        }
      ]
    },
    {
      "cell_type": "code",
      "metadata": {
        "id": "wD2mkucA8dtk",
        "colab_type": "code",
        "colab": {
          "base_uri": "https://localhost:8080/",
          "height": 34
        },
        "outputId": "8d967e42-78cb-4ee3-caaf-7fa926fb81c0"
      },
      "source": [
        "no7 = Chem.MolFromSmarts('[#6]aaaN')\n",
        "[mol.HasSubstructMatch(no7) for mol in my_mol]"
      ],
      "execution_count": 48,
      "outputs": [
        {
          "output_type": "execute_result",
          "data": {
            "text/plain": [
              "[True, True, True]"
            ]
          },
          "metadata": {
            "tags": []
          },
          "execution_count": 48
        }
      ]
    },
    {
      "cell_type": "code",
      "metadata": {
        "id": "-wrcP8w-8hxs",
        "colab_type": "code",
        "colab": {
          "base_uri": "https://localhost:8080/",
          "height": 34
        },
        "outputId": "b242caef-b068-4a34-ef38-c44c18d75fda"
      },
      "source": [
        "no8 = Chem.MolFromSmarts('[#6]aa(O)aN')\n",
        "[mol.HasSubstructMatch(no8) for mol in my_mol]"
      ],
      "execution_count": 49,
      "outputs": [
        {
          "output_type": "execute_result",
          "data": {
            "text/plain": [
              "[True, False, False]"
            ]
          },
          "metadata": {
            "tags": []
          },
          "execution_count": 49
        }
      ]
    },
    {
      "cell_type": "code",
      "metadata": {
        "id": "eeUqoCf18kLk",
        "colab_type": "code",
        "colab": {
          "base_uri": "https://localhost:8080/",
          "height": 34
        },
        "outputId": "690b598a-7e5c-402a-f8c1-f7bc2ca55e34"
      },
      "source": [
        "no9 = Chem.MolFromSmarts('[#6][$(aaO);$(aaaN)]')\n",
        "[mol.HasSubstructMatch(no9) for mol in my_mol]"
      ],
      "execution_count": 50,
      "outputs": [
        {
          "output_type": "execute_result",
          "data": {
            "text/plain": [
              "[True, False, True]"
            ]
          },
          "metadata": {
            "tags": []
          },
          "execution_count": 50
        }
      ]
    },
    {
      "cell_type": "markdown",
      "metadata": {
        "id": "PlBXyCC88n6t",
        "colab_type": "text"
      },
      "source": [
        "또한 ‘$’ 를 이용해 중복되는 것을 생략할 수 있으며, 위에서 ';'를 이용해 ‘그리고’를 의미하는 논리적 연산자를 이용해 no8과 no9의 결과값이 다른것을 확인할 수 있다."
      ]
    },
    {
      "cell_type": "code",
      "metadata": {
        "id": "Ga7snQM68mL1",
        "colab_type": "code",
        "colab": {
          "base_uri": "https://localhost:8080/",
          "height": 216
        },
        "outputId": "4a4c9643-bf4e-48d9-d0df-6573db1b2b46"
      },
      "source": [
        "ethanol = Chem.MolFromSmiles('CCO')\n",
        "isopropanol = Chem.MolFromSmiles('CC(C)O')\n",
        "phenol = Chem.MolFromSmiles('c1cccc(O)c1')\n",
        "t_butanol = Chem.MolFromSmiles('C(C)(C)(C)O')\n",
        "glycerol = Chem.MolFromSmiles('OCC(O)CO')\n",
        "\n",
        "alcohols = [ethanol, isopropanol, phenol, t_butanol, glycerol]\n",
        "Draw.MolsToGridImage(alcohols, molsPerRow=5)"
      ],
      "execution_count": 51,
      "outputs": [
        {
          "output_type": "execute_result",
          "data": {
            "image/png": "[encoded data removed]",
            "text/plain": [
              "<PIL.PngImagePlugin.PngImageFile image mode=RGB size=1000x200 at 0x7F542FC33B00>"
            ]
          },
          "metadata": {
            "tags": []
          },
          "execution_count": 51
        }
      ]
    },
    {
      "cell_type": "code",
      "metadata": {
        "id": "DAED3ieP80IP",
        "colab_type": "code",
        "colab": {
          "base_uri": "https://localhost:8080/",
          "height": 166
        },
        "outputId": "4dd9631f-0b18-423d-85ef-22bc31c247e2"
      },
      "source": [
        "rxn_1 = AllChem.ReactionFromSmarts('[#6:1]([O:2])>>[#6:1](=[O:2])') #탄소와 산소의 단일결합에서 이중결합을 하도록 반응식을 설정해준다.\n",
        "rxn_1.RunReactants((isopropanol, ))[0][0] #이를 확인하면, 처음 집합의 두번째 순서였던 Isopropanol의 반응 결과이다."
      ],
      "execution_count": 56,
      "outputs": [
        {
          "output_type": "execute_result",
          "data": {
            "image/png": "[encoded data removed]",
            "text/plain": [
              "<rdkit.Chem.rdchem.Mol at 0x7f542fc99d40>"
            ]
          },
          "metadata": {
            "tags": []
          },
          "execution_count": 56
        }
      ]
    }
  ]
}