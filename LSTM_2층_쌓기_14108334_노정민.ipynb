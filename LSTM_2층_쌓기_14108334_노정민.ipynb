{
  "nbformat": 4,
  "nbformat_minor": 0,
  "metadata": {
    "colab": {
      "name": "LSTM 2층 쌓기 -14108334 노정민.ipynb",
      "provenance": [],
      "collapsed_sections": [],
      "include_colab_link": true
    },
    "kernelspec": {
      "name": "python3",
      "display_name": "Python 3"
    }
  },
  "cells": [
    {
      "cell_type": "markdown",
      "metadata": {
        "id": "view-in-github",
        "colab_type": "text"
      },
      "source": [
        "<a href=\"https://colab.research.google.com/github/JungMinNoh/jungminnoh/blob/master/LSTM_2%EC%B8%B5_%EC%8C%93%EA%B8%B0_14108334_%EB%85%B8%EC%A0%95%EB%AF%BC.ipynb\" target=\"_parent\"><img src=\"https://colab.research.google.com/assets/colab-badge.svg\" alt=\"Open In Colab\"/></a>"
      ]
    },
    {
      "cell_type": "code",
      "metadata": {
        "id": "ZMGiwJXXxCSQ",
        "colab_type": "code",
        "outputId": "abf0130d-0201-429c-8d9a-3cd3ac4dc033",
        "colab": {
          "base_uri": "https://localhost:8080/",
          "height": 105
        }
      },
      "source": [
        "try:\n",
        "\n",
        "    %tensorflow_version 2.x  # %tensorflow_version only exists in Colab\n",
        "\n",
        "except Exception:\n",
        "\n",
        "    pass"
      ],
      "execution_count": 3,
      "outputs": [
        {
          "output_type": "stream",
          "text": [
            "`%tensorflow_version` only switches the major version: `1.x` or `2.x`.\n",
            "You set: `2.x  # %tensorflow_version only exists in Colab`. This will be interpreted as: `2.x`.\n",
            "\n",
            "\n",
            "TensorFlow 2.x selected.\n"
          ],
          "name": "stdout"
        }
      ]
    },
    {
      "cell_type": "code",
      "metadata": {
        "id": "oZVwJNyxxKTG",
        "colab_type": "code",
        "outputId": "1f217bdf-f906-46c8-ed3b-cf032d809267",
        "colab": {
          "base_uri": "https://localhost:8080/",
          "height": 34
        }
      },
      "source": [
        "import tensorflow as tf\n",
        "tf.__version__"
      ],
      "execution_count": 4,
      "outputs": [
        {
          "output_type": "execute_result",
          "data": {
            "text/plain": [
              "'2.0.0'"
            ]
          },
          "metadata": {
            "tags": []
          },
          "execution_count": 4
        }
      ]
    },
    {
      "cell_type": "code",
      "metadata": {
        "id": "di2daNIRxhFs",
        "colab_type": "code",
        "colab": {}
      },
      "source": [
        "from tensorflow.keras.models import Sequential\n",
        "from tensorflow.keras.layers import Embedding\n",
        "from tensorflow.keras.layers import Dense\n",
        "from tensorflow.keras.layers import LSTM"
      ],
      "execution_count": 0,
      "outputs": []
    },
    {
      "cell_type": "markdown",
      "metadata": {
        "id": "ze-6VKQsDcw3",
        "colab_type": "text"
      },
      "source": [
        "#수정한 코드 (2층)"
      ]
    },
    {
      "cell_type": "markdown",
      "metadata": {
        "id": "Jgekezmv_x0_",
        "colab_type": "text"
      },
      "source": [
        "기존 model_lstm.add(LSTM(8)) 명령어에서\n",
        "model_lstm.add(LSTM(8,return_sequences=True,\n",
        "               input_shape=(timesteps, data_dim))) 로 바꿔줌."
      ]
    },
    {
      "cell_type": "code",
      "metadata": {
        "id": "1UUNuWhXxOp6",
        "colab_type": "code",
        "outputId": "d1599eb2-d524-4707-a9a6-3e93afe44e01",
        "colab": {
          "base_uri": "https://localhost:8080/",
          "height": 301
        }
      },
      "source": [
        "# expected input data shape: (batch_size, timesteps, data_dim)\n",
        "\n",
        "model_lstm = Sequential()\n",
        "\n",
        "data_dim = 16\n",
        "timesteps = 8\n",
        "num_classes = 10\n",
        "\n",
        "model_lstm.add(Embedding(1000,32))\n",
        "model_lstm.add(LSTM(8,return_sequences=True,\n",
        "               input_shape=(timesteps, data_dim)))\n",
        "model_lstm.add(LSTM(8))\n",
        "model_lstm.add(Dense(1, activation='sigmoid'))\n",
        "model_lstm.summary()"
      ],
      "execution_count": 6,
      "outputs": [
        {
          "output_type": "stream",
          "text": [
            "Model: \"sequential\"\n",
            "_________________________________________________________________\n",
            "Layer (type)                 Output Shape              Param #   \n",
            "=================================================================\n",
            "embedding (Embedding)        (None, None, 32)          32000     \n",
            "_________________________________________________________________\n",
            "lstm (LSTM)                  (None, None, 8)           1312      \n",
            "_________________________________________________________________\n",
            "lstm_1 (LSTM)                (None, 8)                 544       \n",
            "_________________________________________________________________\n",
            "dense (Dense)                (None, 1)                 9         \n",
            "=================================================================\n",
            "Total params: 33,865\n",
            "Trainable params: 33,865\n",
            "Non-trainable params: 0\n",
            "_________________________________________________________________\n"
          ],
          "name": "stdout"
        }
      ]
    },
    {
      "cell_type": "markdown",
      "metadata": {
        "id": "kw-15-qODWBi",
        "colab_type": "text"
      },
      "source": [
        "# LSTM 다층 쌓기 구조 예시"
      ]
    },
    {
      "cell_type": "markdown",
      "metadata": {
        "id": "gJaY32D53RQa",
        "colab_type": "text"
      },
      "source": [
        "그림 예시."
      ]
    },
    {
      "cell_type": "markdown",
      "metadata": {
        "id": "aACRSdSG28d9",
        "colab_type": "text"
      },
      "source": [
        "![대체 텍스트](https://keras.io/img/regular_stacked_lstm.png)"
      ]
    },
    {
      "cell_type": "markdown",
      "metadata": {
        "id": "wysQuKD7A_Jh",
        "colab_type": "text"
      },
      "source": [
        "이 모델에서는 3개의 LSTM 레이어를 서로 위에 쌓아서 상위 레벨의 시간 표현을 학습할 수 있는 모델을 만든다.\n",
        "\n",
        "처음 두 LSTM은 전체 출력 시퀀스를 반환하지만 마지막 한 개는 출력 시퀀스의 마지막 단계만 반환하므로 시간적 치수(즉, 입력 시퀀스를 단일 벡터로 변환)가 떨어진다."
      ]
    },
    {
      "cell_type": "code",
      "metadata": {
        "id": "rWLGNbRuDFzH",
        "colab_type": "code",
        "colab": {}
      },
      "source": [
        "model = Sequential()\n",
        "model.add(LSTM(32, return_sequences=True,\n",
        "               input_shape=(timesteps, data_dim)))  # returns a sequence of vectors of dimension 32\n",
        "model.add(LSTM(32, return_sequences=True))  # returns a sequence of vectors of dimension 32\n",
        "model.add(LSTM(32))  # return a single vector of dimension 32\n",
        "model.add(Dense(10, activation='softmax'))\n",
        "\n",
        "model.compile(loss='categorical_crossentropy',\n",
        "              optimizer='rmsprop',\n",
        "              metrics=['accuracy'])"
      ],
      "execution_count": 0,
      "outputs": []
    },
    {
      "cell_type": "markdown",
      "metadata": {
        "id": "wnFRe-pkDZI7",
        "colab_type": "text"
      },
      "source": [
        "# 적용"
      ]
    },
    {
      "cell_type": "code",
      "metadata": {
        "id": "ARQcmQzuxTMr",
        "colab_type": "code",
        "outputId": "425e4e8c-09ad-4397-ad31-e853cade19c9",
        "colab": {
          "base_uri": "https://localhost:8080/",
          "height": 52
        }
      },
      "source": [
        "from tensorflow.keras.datasets import imdb\n",
        "(x_train_all, y_train_all), (x_test, y_test)=imdb.load_data(skip_top=20, num_words=1000)\n",
        "# 앞과 마찬가지로 단어 1000개\n",
        "\n",
        "for i in range(len(x_train_all)):\n",
        "  x_train_all[i]=[w for w in x_train_all[i] if w>2]\n",
        "\n",
        "import numpy as np\n",
        "np.random.seed(42)\n",
        "random_index=np.random.permutation(25000)\n",
        "\n",
        "x_train=x_train_all[random_index[:20000]]\n",
        "y_train=y_train_all[random_index[:20000]]\n",
        "x_val=x_train_all[random_index[20000:]]\n",
        "y_val=y_train_all[random_index[20000:]]\n"
      ],
      "execution_count": 0,
      "outputs": [
        {
          "output_type": "stream",
          "text": [
            "Downloading data from https://storage.googleapis.com/tensorflow/tf-keras-datasets/imdb.npz\n",
            "17465344/17464789 [==============================] - 1s 0us/step\n"
          ],
          "name": "stdout"
        }
      ]
    },
    {
      "cell_type": "code",
      "metadata": {
        "id": "couilkhIz6fm",
        "colab_type": "code",
        "colab": {}
      },
      "source": [
        "from tensorflow.keras.preprocessing import sequence\n",
        "\n",
        "maxlen=100\n",
        "x_train_seq = sequence.pad_sequences(x_train, maxlen=maxlen)\n",
        "x_val_seq = sequence.pad_sequences(x_val, maxlen=maxlen)"
      ],
      "execution_count": 0,
      "outputs": []
    },
    {
      "cell_type": "code",
      "metadata": {
        "id": "iM4ektFF0BX0",
        "colab_type": "code",
        "outputId": "292f9e4f-c28a-4312-e156-a3aef73b6e2d",
        "colab": {
          "base_uri": "https://localhost:8080/",
          "height": 390
        }
      },
      "source": [
        "model_lstm.compile(optimizer='adam', loss='binary_crossentropy', metrics=['accuracy'])\n",
        "# 원-핫 인코딩 적용하지 않음\n",
        "history=model_lstm.fit(x_train_seq, y_train, epochs=10, batch_size=32, validation_data=(x_val_seq, y_val))"
      ],
      "execution_count": 0,
      "outputs": [
        {
          "output_type": "stream",
          "text": [
            "Train on 20000 samples, validate on 5000 samples\n",
            "Epoch 1/10\n",
            "20000/20000 [==============================] - 55s 3ms/sample - loss: 0.4586 - accuracy: 0.7901 - val_loss: 0.3894 - val_accuracy: 0.8304\n",
            "Epoch 2/10\n",
            "20000/20000 [==============================] - 51s 3ms/sample - loss: 0.3387 - accuracy: 0.8565 - val_loss: 0.3545 - val_accuracy: 0.8496\n",
            "Epoch 3/10\n",
            "20000/20000 [==============================] - 50s 3ms/sample - loss: 0.3102 - accuracy: 0.8680 - val_loss: 0.3536 - val_accuracy: 0.8472\n",
            "Epoch 4/10\n",
            "20000/20000 [==============================] - 50s 3ms/sample - loss: 0.2917 - accuracy: 0.8749 - val_loss: 0.3711 - val_accuracy: 0.8396\n",
            "Epoch 5/10\n",
            "20000/20000 [==============================] - 50s 3ms/sample - loss: 0.2746 - accuracy: 0.8860 - val_loss: 0.3608 - val_accuracy: 0.8390\n",
            "Epoch 6/10\n",
            "20000/20000 [==============================] - 50s 3ms/sample - loss: 0.2574 - accuracy: 0.8929 - val_loss: 0.3645 - val_accuracy: 0.8354\n",
            "Epoch 7/10\n",
            "20000/20000 [==============================] - 50s 3ms/sample - loss: 0.2426 - accuracy: 0.8997 - val_loss: 0.3765 - val_accuracy: 0.8418\n",
            "Epoch 8/10\n",
            "20000/20000 [==============================] - 50s 3ms/sample - loss: 0.2289 - accuracy: 0.9063 - val_loss: 0.3659 - val_accuracy: 0.8392\n",
            "Epoch 9/10\n",
            "20000/20000 [==============================] - 50s 3ms/sample - loss: 0.2148 - accuracy: 0.9153 - val_loss: 0.3922 - val_accuracy: 0.8424\n",
            "Epoch 10/10\n",
            "20000/20000 [==============================] - 50s 3ms/sample - loss: 0.2020 - accuracy: 0.9208 - val_loss: 0.4016 - val_accuracy: 0.8410\n"
          ],
          "name": "stdout"
        }
      ]
    },
    {
      "cell_type": "code",
      "metadata": {
        "id": "MZ2ZVm9Q0DAt",
        "colab_type": "code",
        "outputId": "a3d81474-692d-4c4d-cd0c-aa17f1a3708d",
        "colab": {
          "base_uri": "https://localhost:8080/",
          "height": 264
        }
      },
      "source": [
        "import matplotlib.pyplot as plt\n",
        "plt.plot(history.history['loss'], color='red')\n",
        "plt.plot(history.history['val_loss'], color='green')\n",
        "plt.show()"
      ],
      "execution_count": 0,
      "outputs": [
        {
          "output_type": "display_data",
          "data": {
            "image/png": "[encoded data removed]",
            "text/plain": [
              "<Figure size 432x288 with 1 Axes>"
            ]
          },
          "metadata": {
            "tags": []
          }
        }
      ]
    },
    {
      "cell_type": "code",
      "metadata": {
        "id": "H9A_3pWg2Gw0",
        "colab_type": "code",
        "outputId": "3da82e78-4d2f-4fc8-9b00-74b8568d7666",
        "colab": {
          "base_uri": "https://localhost:8080/",
          "height": 264
        }
      },
      "source": [
        "plt.plot(history.history['accuracy'], color='red')\n",
        "plt.plot(history.history['val_accuracy'], color='green')\n",
        "plt.show()"
      ],
      "execution_count": 0,
      "outputs": [
        {
          "output_type": "display_data",
          "data": {
            "image/png": "[encoded data removed]",
            "text/plain": [
              "<Figure size 432x288 with 1 Axes>"
            ]
          },
          "metadata": {
            "tags": []
          }
        }
      ]
    },
    {
      "cell_type": "code",
      "metadata": {
        "id": "lKxqXIXW2KBL",
        "colab_type": "code",
        "outputId": "5879e530-5a9a-47f2-ca65-aad4ef5ed9e9",
        "colab": {
          "base_uri": "https://localhost:8080/",
          "height": 34
        }
      },
      "source": [
        "loss, accuracy = model_lstm.evaluate(x_val_seq, y_val, verbose=0) \n",
        "print(accuracy)"
      ],
      "execution_count": 0,
      "outputs": [
        {
          "output_type": "stream",
          "text": [
            "0.841\n"
          ],
          "name": "stdout"
        }
      ]
    },
    {
      "cell_type": "markdown",
      "metadata": {
        "id": "agE_OJ9d2SFB",
        "colab_type": "text"
      },
      "source": [
        "**결론 : 정확도가 1층 LSTM에서 0.8374였는데 2층으로 쌓았을땐 0.841로 올랐음을 볼 수 있다.**"
      ]
    },
    {
      "cell_type": "markdown",
      "metadata": {
        "id": "mOTmAqd72g-8",
        "colab_type": "text"
      },
      "source": [
        "https://keras.io/getting-started/sequential-model-guide/\n",
        "\n",
        "Stacked LSTM for sequence classification 부분 참조."
      ]
    }
  ]
}