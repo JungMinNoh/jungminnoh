{
  "nbformat": 4,
  "nbformat_minor": 0,
  "metadata": {
    "colab": {
      "name": "Lorenz equation scipy이용해서 풀기.ipynb",
      "provenance": [],
      "include_colab_link": true
    },
    "kernelspec": {
      "name": "python3",
      "display_name": "Python 3"
    }
  },
  "cells": [
    {
      "cell_type": "markdown",
      "metadata": {
        "id": "view-in-github",
        "colab_type": "text"
      },
      "source": [
        "<a href=\"https://colab.research.google.com/github/JungMinNoh/jungminnoh/blob/master/Lorenz_equation_scipy%EC%9D%B4%EC%9A%A9%ED%95%B4%EC%84%9C_%ED%92%80%EA%B8%B0.ipynb\" target=\"_parent\"><img src=\"https://colab.research.google.com/assets/colab-badge.svg\" alt=\"Open In Colab\"/></a>"
      ]
    },
    {
      "cell_type": "markdown",
      "metadata": {
        "id": "IwngO9Wf4UgO",
        "colab_type": "text"
      },
      "source": [
        "# the Lorenz equations - scipy 로 풀기"
      ]
    },
    {
      "cell_type": "markdown",
      "metadata": {
        "id": "SIuiX2oX4OQH",
        "colab_type": "text"
      },
      "source": [
        "$$\n",
        "\\begin{align*}\n",
        "x'(t) &amp;= \\sigma(y - x)\\\\ \n",
        "y'(t) &amp;= x(\\rho - z) - y \\\\ \n",
        "z'(t) &amp;= x y - \\beta z\n",
        "\\end{align*}\n",
        "$$"
      ]
    },
    {
      "cell_type": "code",
      "metadata": {
        "id": "RovTcd6s4e86",
        "colab_type": "code",
        "colab": {
          "base_uri": "https://localhost:8080/",
          "height": 16
        },
        "outputId": "b326b646-4158-4b32-b590-37e171b27f7d"
      },
      "source": [
        "from scipy.integrate import solve_ivp\n",
        "import numpy as np"
      ],
      "execution_count": 78,
      "outputs": [
        {
          "output_type": "display_data",
          "data": {
            "text/html": [
              "<script src='https://cdnjs.cloudflare.com/ajax/libs/mathjax/2.7.3/latest.js?config=default'></script>"
            ],
            "text/plain": [
              "<IPython.core.display.HTML object>"
            ]
          },
          "metadata": {
            "tags": []
          }
        },
        {
          "output_type": "display_data",
          "data": {
            "text/html": [
              "<script src='https://cdnjs.cloudflare.com/ajax/libs/mathjax/2.7.3/latest.js?config=default'></script>"
            ],
            "text/plain": [
              "<IPython.core.display.HTML object>"
            ]
          },
          "metadata": {
            "tags": []
          }
        }
      ]
    },
    {
      "cell_type": "code",
      "metadata": {
        "id": "zC8uhoUS4fau",
        "colab_type": "code",
        "colab": {
          "base_uri": "https://localhost:8080/",
          "height": 16
        },
        "outputId": "b8c8ea38-6284-4735-8a30-2443214dbabe"
      },
      "source": [
        "def f(t, xyz):\n",
        "    x, y, z = xyz\n",
        "    return [sigma * (y - x),\n",
        "            x * (rho - z) - y,\n",
        "            x * y - beta * z]"
      ],
      "execution_count": 79,
      "outputs": [
        {
          "output_type": "display_data",
          "data": {
            "text/html": [
              "<script src='https://cdnjs.cloudflare.com/ajax/libs/mathjax/2.7.3/latest.js?config=default'></script>"
            ],
            "text/plain": [
              "<IPython.core.display.HTML object>"
            ]
          },
          "metadata": {
            "tags": []
          }
        },
        {
          "output_type": "display_data",
          "data": {
            "text/html": [
              "<script src='https://cdnjs.cloudflare.com/ajax/libs/mathjax/2.7.3/latest.js?config=default'></script>"
            ],
            "text/plain": [
              "<IPython.core.display.HTML object>"
            ]
          },
          "metadata": {
            "tags": []
          }
        }
      ]
    },
    {
      "cell_type": "code",
      "metadata": {
        "id": "kecCJZFB4mLP",
        "colab_type": "code",
        "colab": {
          "base_uri": "https://localhost:8080/",
          "height": 16
        },
        "outputId": "48726b76-5349-4457-c4ec-d050816fde31"
      },
      "source": [
        "xyz0 = [1.0, 1.0, 1.0]\n",
        "t = np.linspace(0, 25, 10000)"
      ],
      "execution_count": 80,
      "outputs": [
        {
          "output_type": "display_data",
          "data": {
            "text/html": [
              "<script src='https://cdnjs.cloudflare.com/ajax/libs/mathjax/2.7.3/latest.js?config=default'></script>"
            ],
            "text/plain": [
              "<IPython.core.display.HTML object>"
            ]
          },
          "metadata": {
            "tags": []
          }
        },
        {
          "output_type": "display_data",
          "data": {
            "text/html": [
              "<script src='https://cdnjs.cloudflare.com/ajax/libs/mathjax/2.7.3/latest.js?config=default'></script>"
            ],
            "text/plain": [
              "<IPython.core.display.HTML object>"
            ]
          },
          "metadata": {
            "tags": []
          }
        }
      ]
    },
    {
      "cell_type": "code",
      "metadata": {
        "id": "fLe7OMka4oEn",
        "colab_type": "code",
        "colab": {
          "base_uri": "https://localhost:8080/",
          "height": 16
        },
        "outputId": "e8879bf7-e6fa-4a68-c375-463f817787d8"
      },
      "source": [
        "rho, sigma, beta = 28, 8, 8/3.0   #scipy에서는 args에 대한 설명이 안나와있어서.. 다 따로 구했습니다.  # args=(rho, sigma, beta)"
      ],
      "execution_count": 81,
      "outputs": [
        {
          "output_type": "display_data",
          "data": {
            "text/html": [
              "<script src='https://cdnjs.cloudflare.com/ajax/libs/mathjax/2.7.3/latest.js?config=default'></script>"
            ],
            "text/plain": [
              "<IPython.core.display.HTML object>"
            ]
          },
          "metadata": {
            "tags": []
          }
        },
        {
          "output_type": "display_data",
          "data": {
            "text/html": [
              "<script src='https://cdnjs.cloudflare.com/ajax/libs/mathjax/2.7.3/latest.js?config=default'></script>"
            ],
            "text/plain": [
              "<IPython.core.display.HTML object>"
            ]
          },
          "metadata": {
            "tags": []
          }
        }
      ]
    },
    {
      "cell_type": "code",
      "metadata": {
        "id": "0uzAqSdB4pKf",
        "colab_type": "code",
        "colab": {
          "base_uri": "https://localhost:8080/",
          "height": 461
        },
        "outputId": "e75d6546-4377-4c9c-e950-1a9dbff52d7f"
      },
      "source": [
        "xyz1 = solve_ivp(f, t, xyz0)\n",
        "print(xyz1,t)\n",
        "print(xyz1,xyz0)"
      ],
      "execution_count": 82,
      "outputs": [
        {
          "output_type": "display_data",
          "data": {
            "text/html": [
              "<script src='https://cdnjs.cloudflare.com/ajax/libs/mathjax/2.7.3/latest.js?config=default'></script>"
            ],
            "text/plain": [
              "<IPython.core.display.HTML object>"
            ]
          },
          "metadata": {
            "tags": []
          }
        },
        {
          "output_type": "display_data",
          "data": {
            "text/html": [
              "<script src='https://cdnjs.cloudflare.com/ajax/libs/mathjax/2.7.3/latest.js?config=default'></script>"
            ],
            "text/plain": [
              "<IPython.core.display.HTML object>"
            ]
          },
          "metadata": {
            "tags": []
          }
        },
        {
          "output_type": "stream",
          "text": [
            "  message: 'The solver successfully reached the end of the integration interval.'\n",
            "     nfev: 8\n",
            "     njev: 0\n",
            "      nlu: 0\n",
            "      sol: None\n",
            "   status: 0\n",
            "  success: True\n",
            "        t: array([0.        , 0.00250025])\n",
            " t_events: None\n",
            "        y: array([[1.        , 1.00064538],\n",
            "       [1.        , 1.06494497],\n",
            "       [1.        , 0.99592837]]) [0.00000000e+00 2.50025003e-03 5.00050005e-03 ... 2.49949995e+01\n",
            " 2.49974997e+01 2.50000000e+01]\n",
            "  message: 'The solver successfully reached the end of the integration interval.'\n",
            "     nfev: 8\n",
            "     njev: 0\n",
            "      nlu: 0\n",
            "      sol: None\n",
            "   status: 0\n",
            "  success: True\n",
            "        t: array([0.        , 0.00250025])\n",
            " t_events: None\n",
            "        y: array([[1.        , 1.00064538],\n",
            "       [1.        , 1.06494497],\n",
            "       [1.        , 0.99592837]]) [1.0, 1.0, 1.0]\n"
          ],
          "name": "stdout"
        }
      ]
    },
    {
      "cell_type": "code",
      "metadata": {
        "id": "Ll62KvQvC3Rx",
        "colab_type": "code",
        "colab": {
          "base_uri": "https://localhost:8080/",
          "height": 16
        },
        "outputId": "a1c09bdb-497b-4882-e060-51fedfaff347"
      },
      "source": [
        "rho, sigma, beta = 28, 8, 0.6*8/3.0  # args=(rho, sigma, 0.6*beta) 인 경우"
      ],
      "execution_count": 83,
      "outputs": [
        {
          "output_type": "display_data",
          "data": {
            "text/html": [
              "<script src='https://cdnjs.cloudflare.com/ajax/libs/mathjax/2.7.3/latest.js?config=default'></script>"
            ],
            "text/plain": [
              "<IPython.core.display.HTML object>"
            ]
          },
          "metadata": {
            "tags": []
          }
        },
        {
          "output_type": "display_data",
          "data": {
            "text/html": [
              "<script src='https://cdnjs.cloudflare.com/ajax/libs/mathjax/2.7.3/latest.js?config=default'></script>"
            ],
            "text/plain": [
              "<IPython.core.display.HTML object>"
            ]
          },
          "metadata": {
            "tags": []
          }
        }
      ]
    },
    {
      "cell_type": "code",
      "metadata": {
        "id": "un-My1sWDQ1e",
        "colab_type": "code",
        "colab": {
          "base_uri": "https://localhost:8080/",
          "height": 461
        },
        "outputId": "a6b643ea-59bb-4618-d7b3-378ee258c79b"
      },
      "source": [
        "xyz2 = solve_ivp(f, t, xyz0)\n",
        "print(xyz2,t)\n",
        "print(xyz2,xyz0)"
      ],
      "execution_count": 84,
      "outputs": [
        {
          "output_type": "display_data",
          "data": {
            "text/html": [
              "<script src='https://cdnjs.cloudflare.com/ajax/libs/mathjax/2.7.3/latest.js?config=default'></script>"
            ],
            "text/plain": [
              "<IPython.core.display.HTML object>"
            ]
          },
          "metadata": {
            "tags": []
          }
        },
        {
          "output_type": "display_data",
          "data": {
            "text/html": [
              "<script src='https://cdnjs.cloudflare.com/ajax/libs/mathjax/2.7.3/latest.js?config=default'></script>"
            ],
            "text/plain": [
              "<IPython.core.display.HTML object>"
            ]
          },
          "metadata": {
            "tags": []
          }
        },
        {
          "output_type": "stream",
          "text": [
            "  message: 'The solver successfully reached the end of the integration interval.'\n",
            "     nfev: 8\n",
            "     njev: 0\n",
            "      nlu: 0\n",
            "      sol: None\n",
            "   status: 0\n",
            "  success: True\n",
            "        t: array([0.        , 0.00250025])\n",
            " t_events: None\n",
            "        y: array([[1.        , 1.00064536],\n",
            "       [1.        , 1.06494165],\n",
            "       [1.        , 0.99858451]]) [0.00000000e+00 2.50025003e-03 5.00050005e-03 ... 2.49949995e+01\n",
            " 2.49974997e+01 2.50000000e+01]\n",
            "  message: 'The solver successfully reached the end of the integration interval.'\n",
            "     nfev: 8\n",
            "     njev: 0\n",
            "      nlu: 0\n",
            "      sol: None\n",
            "   status: 0\n",
            "  success: True\n",
            "        t: array([0.        , 0.00250025])\n",
            " t_events: None\n",
            "        y: array([[1.        , 1.00064536],\n",
            "       [1.        , 1.06494165],\n",
            "       [1.        , 0.99858451]]) [1.0, 1.0, 1.0]\n"
          ],
          "name": "stdout"
        }
      ]
    },
    {
      "cell_type": "code",
      "metadata": {
        "id": "4uKLsNIqDmR8",
        "colab_type": "code",
        "colab": {
          "base_uri": "https://localhost:8080/",
          "height": 16
        },
        "outputId": "b7a7aeec-1664-47aa-a8db-9f8ee4501d82"
      },
      "source": [
        "rho, sigma, beta = 28, 2*8, 0.6*8/3.0  # args=(rho, 2*sigma, 0.6*beta) 인경우"
      ],
      "execution_count": 87,
      "outputs": [
        {
          "output_type": "display_data",
          "data": {
            "text/html": [
              "<script src='https://cdnjs.cloudflare.com/ajax/libs/mathjax/2.7.3/latest.js?config=default'></script>"
            ],
            "text/plain": [
              "<IPython.core.display.HTML object>"
            ]
          },
          "metadata": {
            "tags": []
          }
        },
        {
          "output_type": "display_data",
          "data": {
            "text/html": [
              "<script src='https://cdnjs.cloudflare.com/ajax/libs/mathjax/2.7.3/latest.js?config=default'></script>"
            ],
            "text/plain": [
              "<IPython.core.display.HTML object>"
            ]
          },
          "metadata": {
            "tags": []
          }
        }
      ]
    },
    {
      "cell_type": "code",
      "metadata": {
        "id": "YgU1oQopDgpj",
        "colab_type": "code",
        "colab": {
          "base_uri": "https://localhost:8080/",
          "height": 461
        },
        "outputId": "ddb777de-3af8-4a21-99eb-926a1934b2e5"
      },
      "source": [
        "xyz3 = solve_ivp(f, t, xyz0)\n",
        "print(xyz3,t)\n",
        "print(xyz3,xyz0)"
      ],
      "execution_count": 88,
      "outputs": [
        {
          "output_type": "display_data",
          "data": {
            "text/html": [
              "<script src='https://cdnjs.cloudflare.com/ajax/libs/mathjax/2.7.3/latest.js?config=default'></script>"
            ],
            "text/plain": [
              "<IPython.core.display.HTML object>"
            ]
          },
          "metadata": {
            "tags": []
          }
        },
        {
          "output_type": "display_data",
          "data": {
            "text/html": [
              "<script src='https://cdnjs.cloudflare.com/ajax/libs/mathjax/2.7.3/latest.js?config=default'></script>"
            ],
            "text/plain": [
              "<IPython.core.display.HTML object>"
            ]
          },
          "metadata": {
            "tags": []
          }
        },
        {
          "output_type": "stream",
          "text": [
            "  message: 'The solver successfully reached the end of the integration interval.'\n",
            "     nfev: 8\n",
            "     njev: 0\n",
            "      nlu: 0\n",
            "      sol: None\n",
            "   status: 0\n",
            "  success: True\n",
            "        t: array([0.        , 0.00250025])\n",
            " t_events: None\n",
            "        y: array([[1.        , 1.00128233],\n",
            "       [1.        , 1.06495604],\n",
            "       [1.        , 0.99858508]]) [0.00000000e+00 2.50025003e-03 5.00050005e-03 ... 2.49949995e+01\n",
            " 2.49974997e+01 2.50000000e+01]\n",
            "  message: 'The solver successfully reached the end of the integration interval.'\n",
            "     nfev: 8\n",
            "     njev: 0\n",
            "      nlu: 0\n",
            "      sol: None\n",
            "   status: 0\n",
            "  success: True\n",
            "        t: array([0.        , 0.00250025])\n",
            " t_events: None\n",
            "        y: array([[1.        , 1.00128233],\n",
            "       [1.        , 1.06495604],\n",
            "       [1.        , 0.99858508]]) [1.0, 1.0, 1.0]\n"
          ],
          "name": "stdout"
        }
      ]
    }
  ]
}