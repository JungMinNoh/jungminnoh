{
  "nbformat": 4,
  "nbformat_minor": 0,
  "metadata": {
    "colab": {
      "name": "점프 투 파이썬 6장(학습관련기술들).ipynb",
      "provenance": [],
      "include_colab_link": true
    },
    "kernelspec": {
      "name": "python3",
      "display_name": "Python 3"
    }
  },
  "cells": [
    {
      "cell_type": "markdown",
      "metadata": {
        "id": "view-in-github",
        "colab_type": "text"
      },
      "source": [
        "<a href=\"https://colab.research.google.com/github/JungMinNoh/jungminnoh/blob/master/%EC%A0%90%ED%94%84_%ED%88%AC_%ED%8C%8C%EC%9D%B4%EC%8D%AC_6%EC%9E%A5(%ED%95%99%EC%8A%B5%EA%B4%80%EB%A0%A8%EA%B8%B0%EC%88%A0%EB%93%A4).ipynb\" target=\"_parent\"><img src=\"https://colab.research.google.com/assets/colab-badge.svg\" alt=\"Open In Colab\"/></a>"
      ]
    },
    {
      "cell_type": "markdown",
      "metadata": {
        "id": "EpulSPcq40ph",
        "colab_type": "text"
      },
      "source": [
        "이번 장에서 다룰 주제는 \n",
        "1. 가중치 매개 변수의 최적값을 탐색하는 최적화 방법, \n",
        "2. 가중치 매개변수 초깃값\n",
        "3. 하이퍼 파라미터 설정방법 등 \n",
        "\n",
        "신경망 학습에서 중요한 주제입니다. \n",
        "\n",
        "또한 오버피팅의 대응책인 가중치 감소와 드롭아웃등의 정규화 방법도 간략히 설명하고 구현해봅니다.    \n",
        "  \n",
        "마지막으로 최근 많은 연구에서 사용하는 배치 정규화도 짧게 알아봅니다.   \n",
        "  \n",
        "이번 장에서 설명하는 기법을 이용하면 신경망(딥러닝) 학습의 효율과 정확도를 높일 수 있습니다.\n"
      ]
    },
    {
      "cell_type": "markdown",
      "metadata": {
        "id": "DefrrLXp4qXq",
        "colab_type": "text"
      },
      "source": [
        "# 6.1 매개 변수 갱신"
      ]
    },
    {
      "cell_type": "markdown",
      "metadata": {
        "id": "PB7pT7OD5gR-",
        "colab_type": "text"
      },
      "source": [
        "신경망 학습의 목적은 손실함수의 값을 가능한 한 낮추는 매개변수를 찾는 것 입니다. 이는 곧 매개변수의 최적값을 찾는 문제이며\n",
        "이러한 문제를 푸는것을 **최적화(optimization)** 라고 합니다.  \n",
        "우리는 지금까지 최적의 매개변수 값을 찾는 단서로 매개 변수의 기울기(미분) 을 이용했습니다. 매개변수의 기울기를 구해 기울어진 방향으로 매개변수 값을 갱신하는 일을 몇번이고 반복해서 점점 최적의 값에 다가 갔습니다.  \n",
        "이것이 **확률적 경사 하강법 (SGD)** 이란 단순한 방법인데, 매개변수 공간을 무작정 찾는것보단 똑똑한 방법입니다.  \n",
        "문제에 따라서 SGD보다 똑똑한 방법도 있으니 SGD의 단점을 알아 본 후 SGD와는 다른 최적화 기법을 소개하겠습니다."
      ]
    },
    {
      "cell_type": "markdown",
      "metadata": {
        "id": "6oTpUagj6z7j",
        "colab_type": "text"
      },
      "source": [
        "## 6.1.1 모험가 이야기"
      ]
    },
    {
      "cell_type": "markdown",
      "metadata": {
        "id": "3PS2Bskt7H1s",
        "colab_type": "text"
      },
      "source": [
        "SGD 전략 = 가장 크게 기울어 진 방향으로 가는것. 이 일을 반복하면 언젠간 '깊은곳'에 찾아 갈 수 있다는 것입니다."
      ]
    },
    {
      "cell_type": "markdown",
      "metadata": {
        "id": "GQpDYG4N7S4A",
        "colab_type": "text"
      },
      "source": [
        "## 6.1.2 확률적 경사 하강법 (GSD)"
      ]
    },
    {
      "cell_type": "code",
      "metadata": {
        "id": "Qe8T5CCH4z0l",
        "colab_type": "code",
        "colab": {
          "base_uri": "https://localhost:8080/",
          "height": 136
        },
        "outputId": "b783a301-d5c3-4830-a274-6623c77ec0e0"
      },
      "source": [
        "class SGD: \n",
        "  def __init__(self, lr=0.01):   #실제로 구현은 안되는 SGD , lr = learning rate 학습률을 인수로 지정해줍니다.\n",
        "    self.lr = lr\n",
        "      \n",
        "  def update(self, params, grads):  #update(params,grads) 메서드는 SGD 과정에서 반복해서 불려집니다. Params 와 grads는 딕셔너리변수입니다.\n",
        "    for key in params.keys():\n",
        "      params[key] -= self.lr * grads[key]\n",
        "        \n",
        "network = TwoLayerNet(...)\n",
        "optimizer = SGD() # optiizer 는 최적화를 행하는자라는 뜻의 단어. 이 코드에서는 SGD가 그 역할을 합니다.\n",
        "                  # 매개변수 갱신은 Optimizer 가 책임지고 수행하니 우리는 optimizer 에 매개변수와 기울기 정보만 넘겨주면 됩니다.\n",
        "for i in range(10000)\n",
        "...\n",
        "x_batch, t_batch = get_mini_batch(...) # 미니 배치\n",
        "grads = network.gradient(x_batch, t_batch)\n",
        "params = network.params\n",
        "optimizer.update(params, grads)"
      ],
      "execution_count": 3,
      "outputs": [
        {
          "output_type": "error",
          "ename": "SyntaxError",
          "evalue": "ignored",
          "traceback": [
            "\u001b[0;36m  File \u001b[0;32m\"<ipython-input-3-a2f844d2f6a9>\"\u001b[0;36m, line \u001b[0;32m12\u001b[0m\n\u001b[0;31m    for i in range(10000)\u001b[0m\n\u001b[0m                         ^\u001b[0m\n\u001b[0;31mSyntaxError\u001b[0m\u001b[0;31m:\u001b[0m invalid syntax\n"
          ]
        }
      ]
    },
    {
      "cell_type": "markdown",
      "metadata": {
        "id": "Ie7MP4lV_O-9",
        "colab_type": "text"
      },
      "source": [
        "## 6.1.3 SGD의 단점"
      ]
    },
    {
      "cell_type": "markdown",
      "metadata": {
        "id": "esm9JfrCAEar",
        "colab_type": "text"
      },
      "source": [
        "SGD의 단점은 비등방성 함수 (방향에 따라 성질, 즉 여기에서는 기울기가 달라지는 함수) 에서는 탐색 경로가 비효율적이라는 것입니다.  \n",
        "이러한 SGD의 단점을 개선해주는 모멘텀, AdaGrad, Adam 이라는 세 방법을 소개 하겠습니다."
      ]
    },
    {
      "cell_type": "markdown",
      "metadata": {
        "id": "cnj0IOwKAcnQ",
        "colab_type": "text"
      },
      "source": [
        "## 6.1.4 모멘텀"
      ]
    },
    {
      "cell_type": "code",
      "metadata": {
        "id": "ncqtndsf_SUS",
        "colab_type": "code",
        "colab": {}
      },
      "source": [
        "class Momentum:\n",
        "\n",
        "    \"\"\"모멘텀 SGD\"\"\"\n",
        "\n",
        "    def __init__(self, lr=0.01, momentum=0.9):\n",
        "        self.lr = lr\n",
        "        self.momentum = momentum\n",
        "        self.v = None\n",
        "        \n",
        "    def update(self, params, grads):\n",
        "        if self.v is None:\n",
        "            self.v = {}\n",
        "            for key, val in params.items():                                \n",
        "                self.v[key] = np.zeros_like(val)\n",
        "                \n",
        "        for key in params.keys():\n",
        "            self.v[key] = self.momentum*self.v[key] - self.lr*grads[key] \n",
        "            params[key] += self.v[key]"
      ],
      "execution_count": 0,
      "outputs": []
    },
    {
      "cell_type": "markdown",
      "metadata": {
        "id": "g17sskSsCuKS",
        "colab_type": "text"
      },
      "source": [
        "## 6.1.5 AdaGrad"
      ]
    },
    {
      "cell_type": "code",
      "metadata": {
        "id": "PN7ssroJC1Vb",
        "colab_type": "code",
        "colab": {}
      },
      "source": [
        "class AdaGrad:\n",
        "\n",
        "    \"\"\"AdaGrad\"\"\"\n",
        "\n",
        "    def __init__(self, lr=0.01):\n",
        "        self.lr = lr\n",
        "        self.h = None\n",
        "        \n",
        "    def update(self, params, grads):\n",
        "        if self.h is None:\n",
        "            self.h = {}\n",
        "            for key, val in params.items():\n",
        "                self.h[key] = np.zeros_like(val)\n",
        "            \n",
        "        for key in params.keys():\n",
        "            self.h[key] += grads[key] * grads[key]\n",
        "            params[key] -= self.lr * grads[key] / (np.sqrt(self.h[key]) + 1e-7) # 1e -7 이라는 작은값을 더해주는것에 주목. 이 작은값은 self.h[key] 에 0이 담겨있다 해도 0으로 나누는 사태를 막아줌."
      ],
      "execution_count": 0,
      "outputs": []
    },
    {
      "cell_type": "markdown",
      "metadata": {
        "id": "y5hZh5UZD_EB",
        "colab_type": "text"
      },
      "source": [
        "## 6.1.6 Adam"
      ]
    },
    {
      "cell_type": "markdown",
      "metadata": {
        "id": "ThQ38pB_EGDf",
        "colab_type": "text"
      },
      "source": [
        "앞의 두 기법 모멘텀,Adagrad 를 융합한 방법."
      ]
    },
    {
      "cell_type": "code",
      "metadata": {
        "id": "EQ8E1Jr3EK1X",
        "colab_type": "code",
        "colab": {}
      },
      "source": [
        "class Adam:\n",
        "\n",
        "    \"\"\"Adam (http://arxiv.org/abs/1412.6980v8)\"\"\"\n",
        "\n",
        "    def __init__(self, lr=0.001, beta1=0.9, beta2=0.999): # 하이퍼 파라미터 3개 설명 lr(학습률,논문에서는 a) 일차 모멘텀용 계수 b1,이차 모멘텀용 계수 b2\n",
        "        self.lr = lr\n",
        "        self.beta1 = beta1\n",
        "        self.beta2 = beta2\n",
        "        self.iter = 0\n",
        "        self.m = None\n",
        "        self.v = None\n",
        "        \n",
        "    def update(self, params, grads):\n",
        "        if self.m is None:\n",
        "            self.m, self.v = {}, {}\n",
        "            for key, val in params.items():\n",
        "                self.m[key] = np.zeros_like(val)\n",
        "                self.v[key] = np.zeros_like(val)\n",
        "        \n",
        "        self.iter += 1\n",
        "        lr_t  = self.lr * np.sqrt(1.0 - self.beta2**self.iter) / (1.0 - self.beta1**self.iter)         \n",
        "        \n",
        "        for key in params.keys():\n",
        "            #self.m[key] = self.beta1*self.m[key] + (1-self.beta1)*grads[key]\n",
        "            #self.v[key] = self.beta2*self.v[key] + (1-self.beta2)*(grads[key]**2)\n",
        "            self.m[key] += (1 - self.beta1) * (grads[key] - self.m[key])\n",
        "            self.v[key] += (1 - self.beta2) * (grads[key]**2 - self.v[key])\n",
        "            \n",
        "            params[key] -= lr_t * self.m[key] / (np.sqrt(self.v[key]) + 1e-7)\n",
        "            \n",
        "            #unbias_m += (1 - self.beta1) * (grads[key] - self.m[key]) # correct bias\n",
        "            #unbisa_b += (1 - self.beta2) * (grads[key]*grads[key] - self.v[key]) # correct bias\n",
        "            #params[key] += self.lr * unbias_m / (np.sqrt(unbisa_b) + 1e-7)"
      ],
      "execution_count": 0,
      "outputs": []
    },
    {
      "cell_type": "markdown",
      "metadata": {
        "id": "5EXYe0H8FI3_",
        "colab_type": "text"
      },
      "source": [
        "## 6.1.7 어느 갱신 방법을 이용할 것인가?"
      ]
    },
    {
      "cell_type": "code",
      "metadata": {
        "id": "_o81fzHPFVcv",
        "colab_type": "code",
        "colab": {
          "base_uri": "https://localhost:8080/",
          "height": 127
        },
        "outputId": "12373524-b13a-457b-b110-eb8d98224318"
      },
      "source": [
        "from google.colab import drive\n",
        "drive.mount('/content/gdrive/')"
      ],
      "execution_count": 10,
      "outputs": [
        {
          "output_type": "stream",
          "text": [
            "Go to this URL in a browser: https://accounts.google.com/o/oauth2/auth?client_id=947318989803-6bn6qk8qdgf4n4g3pfee6491hc0brc4i.apps.googleusercontent.com&redirect_uri=urn%3Aietf%3Awg%3Aoauth%3A2.0%3Aoob&scope=email%20https%3A%2F%2Fwww.googleapis.com%2Fauth%2Fdocs.test%20https%3A%2F%2Fwww.googleapis.com%2Fauth%2Fdrive%20https%3A%2F%2Fwww.googleapis.com%2Fauth%2Fdrive.photos.readonly%20https%3A%2F%2Fwww.googleapis.com%2Fauth%2Fpeopleapi.readonly&response_type=code\n",
            "\n",
            "Enter your authorization code:\n",
            "··········\n",
            "Mounted at /content/gdrive/\n"
          ],
          "name": "stdout"
        }
      ]
    },
    {
      "cell_type": "code",
      "metadata": {
        "id": "PImzPWVdEZs7",
        "colab_type": "code",
        "colab": {
          "base_uri": "https://localhost:8080/",
          "height": 295
        },
        "outputId": "65f268fe-148e-43aa-e034-ec5eafb0d951"
      },
      "source": [
        "# coding: utf-8\n",
        "import sys, os\n",
        "sys.path.insert(0, '/content/gdrive/My Drive/Colab Notebooks/')\n",
        "\n",
        "import numpy as np\n",
        "import matplotlib.pyplot as plt\n",
        "from collections import OrderedDict\n",
        "from common.optimizer import *\n",
        "\n",
        "\n",
        "def f(x, y):\n",
        "    return x**2 / 20.0 + y**2\n",
        "\n",
        "\n",
        "def df(x, y):\n",
        "    return x / 10.0, 2.0*y\n",
        "\n",
        "init_pos = (-7.0, 2.0)\n",
        "params = {}\n",
        "params['x'], params['y'] = init_pos[0], init_pos[1]\n",
        "grads = {}\n",
        "grads['x'], grads['y'] = 0, 0\n",
        "\n",
        "\n",
        "optimizers = OrderedDict()\n",
        "optimizers[\"SGD\"] = SGD(lr=0.95)\n",
        "optimizers[\"Momentum\"] = Momentum(lr=0.1)\n",
        "optimizers[\"AdaGrad\"] = AdaGrad(lr=1.5)\n",
        "optimizers[\"Adam\"] = Adam(lr=0.3)\n",
        "\n",
        "idx = 1\n",
        "\n",
        "for key in optimizers:\n",
        "    optimizer = optimizers[key]\n",
        "    x_history = []\n",
        "    y_history = []\n",
        "    params['x'], params['y'] = init_pos[0], init_pos[1]\n",
        "    \n",
        "    for i in range(30):\n",
        "        x_history.append(params['x'])\n",
        "        y_history.append(params['y'])\n",
        "        \n",
        "        grads['x'], grads['y'] = df(params['x'], params['y'])\n",
        "        optimizer.update(params, grads)\n",
        "    \n",
        "\n",
        "    x = np.arange(-10, 10, 0.01)\n",
        "    y = np.arange(-5, 5, 0.01)\n",
        "    \n",
        "    X, Y = np.meshgrid(x, y) \n",
        "    Z = f(X, Y)\n",
        "    \n",
        "    # 외곽선 단순화\n",
        "    mask = Z > 7\n",
        "    Z[mask] = 0\n",
        "    \n",
        "    # 그래프 그리기\n",
        "    plt.subplot(2, 2, idx)\n",
        "    idx += 1\n",
        "    plt.plot(x_history, y_history, 'o-', color=\"red\")\n",
        "    plt.contour(X, Y, Z)\n",
        "    plt.ylim(-10, 10)\n",
        "    plt.xlim(-10, 10)\n",
        "    plt.plot(0, 0, '+')\n",
        "    #colorbar()\n",
        "    #spring()\n",
        "    plt.title(key)\n",
        "    plt.xlabel(\"x\")\n",
        "    plt.ylabel(\"y\")\n",
        "    \n",
        "plt.show()"
      ],
      "execution_count": 11,
      "outputs": [
        {
          "output_type": "display_data",
          "data": {
            "image/png": "[encoded data removed]",
            "text/plain": [
              "<Figure size 432x288 with 4 Axes>"
            ]
          },
          "metadata": {
            "tags": []
          }
        }
      ]
    },
    {
      "cell_type": "markdown",
      "metadata": {
        "id": "iQPY5ZrPFw6M",
        "colab_type": "text"
      },
      "source": [
        "## 6.1.8 MNIST 데이터셋으로 본 갱신 방법 비교"
      ]
    },
    {
      "cell_type": "code",
      "metadata": {
        "id": "eYiL8O2oF0Zj",
        "colab_type": "code",
        "colab": {
          "base_uri": "https://localhost:8080/",
          "height": 1000
        },
        "outputId": "a95b927d-3dbe-4dea-80ef-44bf1e3364c1"
      },
      "source": [
        "# coding: utf-8\n",
        "import sys, os\n",
        "sys.path.insert(0, '/content/gdrive/My Drive/')\n",
        "\n",
        "# 부모 디렉터리의 파일을 가져올 수 있도록 설정\n",
        "\n",
        "import matplotlib.pyplot as plt\n",
        "from dataset.mnist import load_mnist\n",
        "from common.util import smooth_curve\n",
        "from common.multi_layer_net import MultiLayerNet\n",
        "from common.optimizer import *\n",
        "\n",
        "\n",
        "# 0. MNIST 데이터 읽기==========\n",
        "(x_train, t_train), (x_test, t_test) = load_mnist(normalize=True)\n",
        "\n",
        "train_size = x_train.shape[0]\n",
        "batch_size = 128\n",
        "max_iterations = 2000\n",
        "\n",
        "\n",
        "# 1. 실험용 설정==========\n",
        "optimizers = {}\n",
        "optimizers['SGD'] = SGD()\n",
        "optimizers['Momentum'] = Momentum()\n",
        "optimizers['AdaGrad'] = AdaGrad()\n",
        "optimizers['Adam'] = Adam()\n",
        "#optimizers['RMSprop'] = RMSprop()\n",
        "\n",
        "networks = {}\n",
        "train_loss = {}\n",
        "for key in optimizers.keys():\n",
        "    networks[key] = MultiLayerNet(\n",
        "        input_size=784, hidden_size_list=[100, 100, 100, 100],\n",
        "        output_size=10)\n",
        "    train_loss[key] = []    \n",
        "\n",
        "\n",
        "# 2. 훈련 시작==========\n",
        "for i in range(max_iterations):\n",
        "    batch_mask = np.random.choice(train_size, batch_size)\n",
        "    x_batch = x_train[batch_mask]\n",
        "    t_batch = t_train[batch_mask]\n",
        "    \n",
        "    for key in optimizers.keys():\n",
        "        grads = networks[key].gradient(x_batch, t_batch)\n",
        "        optimizers[key].update(networks[key].params, grads)\n",
        "    \n",
        "        loss = networks[key].loss(x_batch, t_batch)\n",
        "        train_loss[key].append(loss)\n",
        "    \n",
        "    if i % 100 == 0:\n",
        "        print( \"===========\" + \"iteration:\" + str(i) + \"===========\")\n",
        "        for key in optimizers.keys():\n",
        "            loss = networks[key].loss(x_batch, t_batch)\n",
        "            print(key + \":\" + str(loss))\n",
        "\n",
        "\n",
        "# 3. 그래프 그리기==========\n",
        "markers = {\"SGD\": \"o\", \"Momentum\": \"x\", \"AdaGrad\": \"s\", \"Adam\": \"D\"}\n",
        "x = np.arange(max_iterations)\n",
        "for key in optimizers.keys():\n",
        "    plt.plot(x, smooth_curve(train_loss[key]), marker=markers[key], markevery=100, label=key)\n",
        "plt.xlabel(\"iterations\")\n",
        "plt.ylabel(\"loss\")\n",
        "plt.ylim(0, 1)\n",
        "plt.legend()\n",
        "plt.show()"
      ],
      "execution_count": 13,
      "outputs": [
        {
          "output_type": "stream",
          "text": [
            "===========iteration:0===========\n",
            "SGD:2.363520999264246\n",
            "Momentum:2.4537131584754874\n",
            "AdaGrad:1.8813995669296781\n",
            "Adam:2.1343349455595564\n",
            "===========iteration:100===========\n",
            "SGD:1.7445660077720966\n",
            "Momentum:0.36544155718360893\n",
            "AdaGrad:0.10927832925753485\n",
            "Adam:0.21242005662500946\n",
            "===========iteration:200===========\n",
            "SGD:0.847389611331852\n",
            "Momentum:0.16636065706815253\n",
            "AdaGrad:0.0813153977490631\n",
            "Adam:0.11372647733321184\n",
            "===========iteration:300===========\n",
            "SGD:0.5636714297171933\n",
            "Momentum:0.15965239005753507\n",
            "AdaGrad:0.04444288102437197\n",
            "Adam:0.07642561853018835\n",
            "===========iteration:400===========\n",
            "SGD:0.5121914647285877\n",
            "Momentum:0.19473959283744252\n",
            "AdaGrad:0.06285478159354599\n",
            "Adam:0.12257937358266077\n",
            "===========iteration:500===========\n",
            "SGD:0.40443943667048055\n",
            "Momentum:0.13110584323160746\n",
            "AdaGrad:0.041496101937588833\n",
            "Adam:0.08164429500626957\n",
            "===========iteration:600===========\n",
            "SGD:0.47118895242664677\n",
            "Momentum:0.14865824136917197\n",
            "AdaGrad:0.06614363646630043\n",
            "Adam:0.14265134344678299\n",
            "===========iteration:700===========\n",
            "SGD:0.3315195482010367\n",
            "Momentum:0.07430334775519198\n",
            "AdaGrad:0.032696089990212895\n",
            "Adam:0.06112558057295008\n",
            "===========iteration:800===========\n",
            "SGD:0.25619020215266985\n",
            "Momentum:0.09021045282543572\n",
            "AdaGrad:0.06078102048896023\n",
            "Adam:0.0697746919921634\n",
            "===========iteration:900===========\n",
            "SGD:0.17301175910519456\n",
            "Momentum:0.04813886194536408\n",
            "AdaGrad:0.031281887647492644\n",
            "Adam:0.03317768377103564\n",
            "===========iteration:1000===========\n",
            "SGD:0.30765063289229555\n",
            "Momentum:0.10753228160499706\n",
            "AdaGrad:0.051579945281861175\n",
            "Adam:0.07746665585152819\n",
            "===========iteration:1100===========\n",
            "SGD:0.2339893785043466\n",
            "Momentum:0.10828262038653372\n",
            "AdaGrad:0.02463643365943497\n",
            "Adam:0.050882880454456485\n",
            "===========iteration:1200===========\n",
            "SGD:0.261480708490903\n",
            "Momentum:0.06780215069467418\n",
            "AdaGrad:0.04666230902927257\n",
            "Adam:0.04176439652030199\n",
            "===========iteration:1300===========\n",
            "SGD:0.21117105874508532\n",
            "Momentum:0.09301743288480974\n",
            "AdaGrad:0.03424550716601392\n",
            "Adam:0.03850460340780579\n",
            "===========iteration:1400===========\n",
            "SGD:0.14799112376425266\n",
            "Momentum:0.05514916674531471\n",
            "AdaGrad:0.03136223350073263\n",
            "Adam:0.019737690825814454\n",
            "===========iteration:1500===========\n",
            "SGD:0.2673487114727314\n",
            "Momentum:0.08408711461557596\n",
            "AdaGrad:0.031430940757263263\n",
            "Adam:0.04164755451196514\n",
            "===========iteration:1600===========\n",
            "SGD:0.25948900514331974\n",
            "Momentum:0.10706432987010246\n",
            "AdaGrad:0.025380216475336323\n",
            "Adam:0.047712697324206674\n",
            "===========iteration:1700===========\n",
            "SGD:0.17713391371422005\n",
            "Momentum:0.14769158636085913\n",
            "AdaGrad:0.079011623301029\n",
            "Adam:0.143133552300695\n",
            "===========iteration:1800===========\n",
            "SGD:0.13484413025074973\n",
            "Momentum:0.04995434051529621\n",
            "AdaGrad:0.02211201368530579\n",
            "Adam:0.0333491866155791\n",
            "===========iteration:1900===========\n",
            "SGD:0.13972522459181114\n",
            "Momentum:0.07950872129752402\n",
            "AdaGrad:0.027878183827610883\n",
            "Adam:0.06233306861768188\n"
          ],
          "name": "stdout"
        },
        {
          "output_type": "display_data",
          "data": {
            "image/png": "[encoded data removed]",
            "text/plain": [
              "<Figure size 432x288 with 1 Axes>"
            ]
          },
          "metadata": {
            "tags": []
          }
        }
      ]
    },
    {
      "cell_type": "markdown",
      "metadata": {
        "id": "AWSr3pk2GySx",
        "colab_type": "text"
      },
      "source": [
        "# 6.2 가중치의 초깃값"
      ]
    },
    {
      "cell_type": "markdown",
      "metadata": {
        "id": "2FpSoe6uHp9y",
        "colab_type": "text"
      },
      "source": [
        "신경망 학습에서 특히 중요한 것이 가중치의 초깃값입니다. 가중치의 초깃값을 무엇으로 설정하느냐가 신경망 학습의 성패가 가르는 일이 실제로 자주 있습니다. 이번 절에서는 권장 초깃값에 대해서 설명하고 실험을 통해 실제로 신경망 학습이 신속하게 이뤄지는 모습을 확인하겠습니다."
      ]
    },
    {
      "cell_type": "markdown",
      "metadata": {
        "id": "eRNBztJ6JcaM",
        "colab_type": "text"
      },
      "source": [
        "## 6.2.1 초깃값을 0 으로 하면?"
      ]
    },
    {
      "cell_type": "markdown",
      "metadata": {
        "id": "LAwBHsTXKOCK",
        "colab_type": "text"
      },
      "source": [
        "## 6.2.2 은닉층의 활성화값 분포"
      ]
    },
    {
      "cell_type": "code",
      "metadata": {
        "id": "5z4MDiImLwJc",
        "colab_type": "code",
        "colab": {
          "base_uri": "https://localhost:8080/",
          "height": 281
        },
        "outputId": "2e9c31db-f4d1-4b0e-bf28-bd6147780536"
      },
      "source": [
        "# coding: utf-8\n",
        "import numpy as np\n",
        "import matplotlib.pyplot as plt\n",
        "\n",
        "\n",
        "def sigmoid(x):\n",
        "    return 1 / (1 + np.exp(-x))\n",
        "\n",
        " \n",
        "x = np.random.randn(1000, 100)  # 1000개의 데이터중에서 100개를 랜덤으로 뽑는다. 각 층의 뉴런은 100개씩.\n",
        "node_num = 100  # 각 은닉층의 노드(뉴런) 수\n",
        "hidden_layer_size = 5  # 은닉층이 5개\n",
        "activations = {}  # 이곳에 활성화 결과를 저장\n",
        "\n",
        "\n",
        "for i in range(hidden_layer_size):\n",
        "    if i != 0:\n",
        "        x = activations[i-1]\n",
        "    # i 가 은닉층에 범위 안에 있다면 -1 씩 해보면서 넣어보자.\n",
        "    # 초깃값을 다양하게 바꿔가며 실험해보자！\n",
        "    w = np.random.randn(node_num, node_num) * 1 # 가중치의 표준편차를 1로 설정\n",
        "    # w = np.random.randn(node_num, node_num) * 0.01\n",
        "    # w = np.random.randn(node_num, node_num) * np.sqrt(1.0 / node_num)\n",
        "    # w = np.random.randn(node_num, node_num) * np.sqrt(2.0 / node_num)\n",
        "\n",
        "\n",
        "    a = np.dot(x, w)\n",
        "\n",
        "\n",
        "    # 활성화 함수도 바꿔가며 실험해보자！\n",
        "    z = sigmoid(a)\n",
        "    activations[i] = z\n",
        "\n",
        "# 히스토그램 그리기\n",
        "for i, a in activations.items():\n",
        "    plt.subplot(1, len(activations), i+1)\n",
        "    plt.title(str(i+1) + \"-layer\")\n",
        "    plt.hist(a.flatten(), 30, range=(0,1))\n",
        "plt.show()"
      ],
      "execution_count": 19,
      "outputs": [
        {
          "output_type": "display_data",
          "data": {
            "image/png": "[encoded data removed]",
            "text/plain": [
              "<Figure size 432x288 with 5 Axes>"
            ]
          },
          "metadata": {
            "tags": []
          }
        }
      ]
    },
    {
      "cell_type": "code",
      "metadata": {
        "id": "hoGRqNFvMGwg",
        "colab_type": "code",
        "colab": {
          "base_uri": "https://localhost:8080/",
          "height": 281
        },
        "outputId": "12282eb5-2218-46a6-eed1-ccce6c445d46"
      },
      "source": [
        "# coding: utf-8\n",
        "import numpy as np\n",
        "import matplotlib.pyplot as plt\n",
        "\n",
        "\n",
        "def sigmoid(x):\n",
        "    return 1 / (1 + np.exp(-x))\n",
        "\n",
        " \n",
        "x = np.random.randn(1000, 100)  # 1000개의 데이터중에서 100개를 랜덤으로 뽑는다. 각 층의 뉴런은 100개씩.\n",
        "node_num = 100  # 각 은닉층의 노드(뉴런) 수\n",
        "hidden_layer_size = 5  # 은닉층이 5개\n",
        "activations = {}  # 이곳에 활성화 결과를 저장\n",
        "\n",
        "\n",
        "for i in range(hidden_layer_size):\n",
        "    if i != 0:\n",
        "        x = activations[i-1]\n",
        "    # i 가 은닉층에 범위 안에 있다면 -1 씩 해보면서 넣어보자.\n",
        "    # 초깃값을 다양하게 바꿔가며 실험해보자！\n",
        "    w = np.random.randn(node_num, node_num) * 0.01 #가중치의 표준편차를 0.01로 실험\n",
        "    # w = np.random.randn(node_num, node_num) * 0.01\n",
        "    # w = np.random.randn(node_num, node_num) * np.sqrt(1.0 / node_num)\n",
        "    # w = np.random.randn(node_num, node_num) * np.sqrt(2.0 / node_num)\n",
        "\n",
        "\n",
        "    a = np.dot(x, w)\n",
        "\n",
        "\n",
        "    # 활성화 함수도 바꿔가며 실험해보자！\n",
        "    z = sigmoid(a)\n",
        "    activations[i] = z\n",
        "\n",
        "# 히스토그램 그리기\n",
        "for i, a in activations.items():\n",
        "    plt.subplot(1, len(activations), i+1)\n",
        "    plt.title(str(i+1) + \"-layer\")\n",
        "    plt.hist(a.flatten(), 30, range=(0,1))\n",
        "plt.show()"
      ],
      "execution_count": 23,
      "outputs": [
        {
          "output_type": "display_data",
          "data": {
            "image/png": "[encoded data removed]",
            "text/plain": [
              "<Figure size 432x288 with 5 Axes>"
            ]
          },
          "metadata": {
            "tags": []
          }
        }
      ]
    },
    {
      "cell_type": "code",
      "metadata": {
        "id": "27TQjr39NyIl",
        "colab_type": "code",
        "colab": {
          "base_uri": "https://localhost:8080/",
          "height": 281
        },
        "outputId": "2d336523-0535-4fd8-f751-beb0a01891dc"
      },
      "source": [
        "# coding: utf-8\n",
        "import numpy as np\n",
        "import matplotlib.pyplot as plt\n",
        "\n",
        "\n",
        "def sigmoid(x):\n",
        "    return 1 / (1 + np.exp(-x))\n",
        "\n",
        " \n",
        "x = np.random.randn(1000, 100)  # 1000개의 데이터중에서 100개를 랜덤으로 뽑는다. 각 층의 뉴런은 100개씩.\n",
        "node_num = 100  # 각 은닉층의 노드(뉴런) 수\n",
        "hidden_layer_size = 5  # 은닉층이 5개\n",
        "activations = {}  # 이곳에 활성화 결과를 저장\n",
        "\n",
        "\n",
        "for i in range(hidden_layer_size):\n",
        "    if i != 0:\n",
        "        x = activations[i-1]\n",
        "    # i 가 은닉층에 범위 안에 있다면 -1 씩 해보면서 넣어보자.\n",
        "    # 초깃값을 다양하게 바꿔가며 실험해보자！\n",
        "    w = np.random.randn(node_num, node_num) / np.sqrt(node_num) #가중치를 Xavier초깃값으로 실험\n",
        "    # w = np.random.randn(node_num, node_num) * 0.01\n",
        "    # w = np.random.randn(node_num, node_num) * np.sqrt(1.0 / node_num)\n",
        "    # w = np.random.randn(node_num, node_num) * np.sqrt(2.0 / node_num)\n",
        "\n",
        "\n",
        "    a = np.dot(x, w)\n",
        "\n",
        "\n",
        "    # 활성화 함수도 바꿔가며 실험해보자！\n",
        "    z = sigmoid(a)\n",
        "    activations[i] = z\n",
        "\n",
        "# 히스토그램 그리기\n",
        "for i, a in activations.items():\n",
        "    plt.subplot(1, len(activations), i+1)\n",
        "    plt.title(str(i+1) + \"-layer\")\n",
        "    plt.hist(a.flatten(), 30, range=(0,1))\n",
        "plt.show()"
      ],
      "execution_count": 24,
      "outputs": [
        {
          "output_type": "display_data",
          "data": {
            "image/png": "[encoded data removed]",
            "text/plain": [
              "<Figure size 432x288 with 5 Axes>"
            ]
          },
          "metadata": {
            "tags": []
          }
        }
      ]
    },
    {
      "cell_type": "markdown",
      "metadata": {
        "id": "pHG4yN6_QrXR",
        "colab_type": "text"
      },
      "source": [
        "## 6.2.3 ReLu를 사용할때 가중치 초깃값"
      ]
    },
    {
      "cell_type": "markdown",
      "metadata": {
        "id": "PTGvmL29SOi_",
        "colab_type": "text"
      },
      "source": [
        "책 그림 참고"
      ]
    },
    {
      "cell_type": "markdown",
      "metadata": {
        "id": "viNgWeCFSHC6",
        "colab_type": "text"
      },
      "source": [
        "## 6.2.4 MNIST 데이터셋으로 본 가중치 초깃값 비교"
      ]
    },
    {
      "cell_type": "code",
      "metadata": {
        "id": "U184PQQDP2uv",
        "colab_type": "code",
        "colab": {
          "base_uri": "https://localhost:8080/",
          "height": 1000
        },
        "outputId": "119c7a7f-252f-4171-83f3-b70349e1e890"
      },
      "source": [
        "# coding: utf-8\n",
        "import sys, os\n",
        "sys.path.insert(0, '/content/gdrive/My Drive/') # 부모 디렉터리의 파일을 가져올 수 있도록 설정\n",
        "import numpy as np\n",
        "import matplotlib.pyplot as plt\n",
        "from dataset.mnist import load_mnist\n",
        "from common.util import smooth_curve\n",
        "from common.multi_layer_net import MultiLayerNet\n",
        "from common.optimizer import SGD\n",
        "\n",
        "\n",
        "# 0. MNIST 데이터 읽기==========\n",
        "(x_train, t_train), (x_test, t_test) = load_mnist(normalize=True)\n",
        "\n",
        "train_size = x_train.shape[0]\n",
        "batch_size = 128 #배치 사이즈 128\n",
        "max_iterations = 2000 #학습의 반복획수 2000\n",
        "\n",
        "\n",
        "# 1. 실험용 설정==========\n",
        "weight_init_types = {'std=0.01': 0.01, 'Xavier': 'sigmoid', 'He': 'relu'} # 가중치를 std=0.01 일때 , xavier 초깃값, he 초깃값을 넣는다.\n",
        "optimizer = SGD(lr=0.01) #학습률을 0.01로 설정\n",
        "\n",
        "networks = {}\n",
        "train_loss = {}\n",
        "for key, weight_type in weight_init_types.items():\n",
        "    networks[key] = MultiLayerNet(input_size=784, hidden_size_list=[100, 100, 100, 100],\n",
        "                                  output_size=10, weight_init_std=weight_type)\n",
        "    train_loss[key] = []\n",
        "\n",
        "\n",
        "# 2. 훈련 시작==========\n",
        "for i in range(max_iterations):\n",
        "    batch_mask = np.random.choice(train_size, batch_size)\n",
        "    x_batch = x_train[batch_mask]\n",
        "    t_batch = t_train[batch_mask]\n",
        "    \n",
        "    for key in weight_init_types.keys():\n",
        "        grads = networks[key].gradient(x_batch, t_batch)\n",
        "        optimizer.update(networks[key].params, grads)\n",
        "    \n",
        "        loss = networks[key].loss(x_batch, t_batch)\n",
        "        train_loss[key].append(loss)\n",
        "    \n",
        "    if i % 100 == 0:\n",
        "        print(\"===========\" + \"iteration:\" + str(i) + \"===========\")\n",
        "        for key in weight_init_types.keys():\n",
        "            loss = networks[key].loss(x_batch, t_batch)\n",
        "            print(key + \":\" + str(loss))\n",
        "\n",
        "\n",
        "# 3. 그래프 그리기==========\n",
        "markers = {'std=0.01': 'o', 'Xavier': 's', 'He': 'D'}\n",
        "x = np.arange(max_iterations)\n",
        "for key in weight_init_types.keys():\n",
        "    plt.plot(x, smooth_curve(train_loss[key]), marker=markers[key], markevery=100, label=key)\n",
        "plt.xlabel(\"iterations\")\n",
        "plt.ylabel(\"loss\")\n",
        "plt.ylim(0, 2.5)\n",
        "plt.legend()\n",
        "plt.show()"
      ],
      "execution_count": 25,
      "outputs": [
        {
          "output_type": "stream",
          "text": [
            "===========iteration:0===========\n",
            "std=0.01:2.30252193814334\n",
            "Xavier:2.3219038651543995\n",
            "He:2.3817134706165777\n",
            "===========iteration:100===========\n",
            "std=0.01:2.3022412723786125\n",
            "Xavier:2.257200946123625\n",
            "He:1.5627244584370077\n",
            "===========iteration:200===========\n",
            "std=0.01:2.3011334207760545\n",
            "Xavier:2.1180827775054794\n",
            "He:0.8176914766339969\n",
            "===========iteration:300===========\n",
            "std=0.01:2.3030039452435203\n",
            "Xavier:1.8094331972413074\n",
            "He:0.5969764954511592\n",
            "===========iteration:400===========\n",
            "std=0.01:2.301950704884343\n",
            "Xavier:1.3208877289612728\n",
            "He:0.3892464635624232\n",
            "===========iteration:500===========\n",
            "std=0.01:2.303459557585668\n",
            "Xavier:0.9626314477417859\n",
            "He:0.4654491285617321\n",
            "===========iteration:600===========\n",
            "std=0.01:2.302565588348685\n",
            "Xavier:0.6207403191731495\n",
            "He:0.24101288625739895\n",
            "===========iteration:700===========\n",
            "std=0.01:2.3029906497823003\n",
            "Xavier:0.6271641660283578\n",
            "He:0.3417370173970331\n",
            "===========iteration:800===========\n",
            "std=0.01:2.3008130508443254\n",
            "Xavier:0.46125628025871745\n",
            "He:0.2421388283102468\n",
            "===========iteration:900===========\n",
            "std=0.01:2.30103442766369\n",
            "Xavier:0.5238353124637408\n",
            "He:0.3328958883119255\n",
            "===========iteration:1000===========\n",
            "std=0.01:2.3053054098430885\n",
            "Xavier:0.46016376429746536\n",
            "He:0.2724930455917992\n",
            "===========iteration:1100===========\n",
            "std=0.01:2.302541099554814\n",
            "Xavier:0.299609034895269\n",
            "He:0.17740857341159189\n",
            "===========iteration:1200===========\n",
            "std=0.01:2.304233559762296\n",
            "Xavier:0.33248360305399804\n",
            "He:0.17995686859814125\n",
            "===========iteration:1300===========\n",
            "std=0.01:2.2994438206941714\n",
            "Xavier:0.3916851454241024\n",
            "He:0.2773360527791676\n",
            "===========iteration:1400===========\n",
            "std=0.01:2.3050659896642767\n",
            "Xavier:0.3835031866472752\n",
            "He:0.2849844169564182\n",
            "===========iteration:1500===========\n",
            "std=0.01:2.300479529640227\n",
            "Xavier:0.29716969662882015\n",
            "He:0.20102500228480247\n",
            "===========iteration:1600===========\n",
            "std=0.01:2.3068157732472176\n",
            "Xavier:0.34720865476558715\n",
            "He:0.25286559440301004\n",
            "===========iteration:1700===========\n",
            "std=0.01:2.304128108466746\n",
            "Xavier:0.26641413028767763\n",
            "He:0.18149351226533794\n",
            "===========iteration:1800===========\n",
            "std=0.01:2.3040588570610883\n",
            "Xavier:0.26421639863328994\n",
            "He:0.15080230781144977\n",
            "===========iteration:1900===========\n",
            "std=0.01:2.301685037052109\n",
            "Xavier:0.29862869880763665\n",
            "He:0.1819659833573533\n"
          ],
          "name": "stdout"
        },
        {
          "output_type": "display_data",
          "data": {
            "image/png": "[encoded data removed]",
            "text/plain": [
              "<Figure size 432x288 with 1 Axes>"
            ]
          },
          "metadata": {
            "tags": []
          }
        }
      ]
    },
    {
      "cell_type": "code",
      "metadata": {
        "id": "Miq4vXFSRpcH",
        "colab_type": "code",
        "colab": {}
      },
      "source": [
        ""
      ],
      "execution_count": 0,
      "outputs": []
    }
  ]
}