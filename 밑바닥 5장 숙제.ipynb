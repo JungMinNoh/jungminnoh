{
 "cells": [
  {
   "cell_type": "markdown",
   "metadata": {},
   "source": [
    "# CHAPTER5.오차역전파법 - 14108334 노정민"
   ]
  },
  {
   "cell_type": "markdown",
   "metadata": {},
   "source": [
    "## 서론   \n",
    "4장에서 우리는 신경망 학습에 대해서 공부했다.  \n",
    "그때 신경망의 가중치 매개변수의 기울기는 수치 미분을 통해서 구했다.  \n",
    "수치미분은 단순하고 구현하기도 쉽지만 계산 시간이 오래 걸린다는게 단점이다.  \n",
    "우리는 이를 해결 하기 위해 가중치 매개변수의 기울기를 효율적으로 계산하는 '오차역전파법'에 대해서 알아보자.  "
   ]
  },
  {
   "cell_type": "markdown",
   "metadata": {},
   "source": [
    "# 5.1 계산 그래프\n",
    "---"
   ]
  },
  {
   "cell_type": "markdown",
   "metadata": {},
   "source": [
    "## 5.1.1 계산 그래프로 풀다\n",
    "  \n",
    "계산 그래프는 계산 과정을 그래프로 나타낸것이다.  \n",
    "여기서의 그래프는 우리가 잘 아는 그래프 자료구조로, '노드'와 '에지'로 표현된다.  \n",
    "노드는 원(O)으로 표기하고, 에지는 노드를 잇는 선으로 표현한다."
   ]
  },
  {
   "cell_type": "markdown",
   "metadata": {},
   "source": [
    "> 문제 1: 현빈 군은 슈퍼에서 1개에 100원인 사과를 2개 샀습니다. 이때 지불 금액을 구하세요. 단 소비세 10%가 부과 됩니다."
   ]
  },
  {
   "cell_type": "markdown",
   "metadata": {},
   "source": [
    "![1](https://github.com/JungMinNoh/jungminnoh/blob/master/15.jpg?raw=true)"
   ]
  },
  {
   "cell_type": "markdown",
   "metadata": {},
   "source": [
    "![2](https://github.com/JungMinNoh/jungminnoh/blob/master/13.jpg?raw=true)"
   ]
  },
  {
   "cell_type": "markdown",
   "metadata": {},
   "source": [
    "> 문제 2: 현빈 군은 슈퍼에서 사과를 2개, 귤을 3개 샀습니다. 사과는 1개에 100원, 귤은 1개 150원 입니다. 소비세가 10%일때 지불 금액을 구하세요"
   ]
  },
  {
   "cell_type": "markdown",
   "metadata": {},
   "source": [
    "![2](https://github.com/JungMinNoh/jungminnoh/blob/master/14.jpg?raw=true)"
   ]
  },
  {
   "cell_type": "markdown",
   "metadata": {},
   "source": [
    "계산 그래프를 이용한 문제 풀이는 다음 흐름으로 진행한다.  \n",
    "1.계산 그래프를 구성한다.  \n",
    "2.그래프에서 계산을 왼쪽에서 오른쪽으로 진행한다.  \n",
    "여기서 2번째 '계산을 왼쪽에서 오른쪽으로 진행한다' 하는 단계를 **순전파**라고 한다."
   ]
  },
  {
   "cell_type": "markdown",
   "metadata": {},
   "source": [
    "## 5.1.2 국소적 계산\n",
    "계산 그래프의 특징은 '국소적 계산'을 전파 함으로써 최정 결과를 얻는다는 점에 있다.  \n",
    "각 노드는 자신과 관련한 계산외에는 아무것도 신경 쓸게 없다.  \n",
    "이 처럼 계산 그래프는 국소적 계산에 집중한다.  \n",
    "전체 계산이 아무리 복잡하더라도 각 단계에서 하는 일은 해당 노드의 '국소적 계산'이다.  \n",
    "국소적인 계산은 단순하지만, 그 결과를 전달함으로써 전체를 구성하는 복잡한 계산을 할 수 있다."
   ]
  },
  {
   "cell_type": "markdown",
   "metadata": {},
   "source": [
    "![2](https://github.com/JungMinNoh/jungminnoh/blob/master/12.jpg?raw=true)"
   ]
  },
  {
   "cell_type": "markdown",
   "metadata": {},
   "source": [
    "## 5.1.3 왜 계산 그래프로 푸는가?"
   ]
  },
  {
   "cell_type": "markdown",
   "metadata": {},
   "source": [
    "위의 예시에서 계산그래프로 두 문제를 풀어봤다.  \n",
    "계산 그래프의 이점은 무엇인가?  \n",
    "이점 하나는 방금 언급했던 '국소적 계산'이다. 전체가 아무리 복잡해도 각 노드에서는 단순한 계산에 집중하여 문제를 단순화 할 수 있다.    \n",
    "또 다른 이유로는 중간계산결과를 모두 보관 할 수 있다는 것이다.  \n",
    "그리고 실제 계산 그래프를 사용 하는 가장 큰 이유는 역전파를 통해 '미분'을 효율적으로 계산 할 수 있다는 점 이다.  "
   ]
  },
  {
   "cell_type": "markdown",
   "metadata": {},
   "source": [
    "![2](https://github.com/JungMinNoh/jungminnoh/blob/master/11.jpg?raw=true)"
   ]
  },
  {
   "cell_type": "markdown",
   "metadata": {},
   "source": [
    "사과 가격에 대한 지불 금액의 미분 같은 값은 계산 그래프에서 역전파를 하면 구 할 수 있다.  \n",
    "이 결과로 부터 사과 가격에 대한 지불 금액의 미분값은 2.2 라고 할 수 있다. 사과가 1원 오르면 최종금액은 2.2원 오른다는 뜻이다.  "
   ]
  },
  {
   "cell_type": "markdown",
   "metadata": {},
   "source": [
    "여기에서는 사과 가격에 대한 미분만 구했지만, '소비세에 대한 지불금액의 미분'이나 '사과 개수에 대한 지불 금액의 미분'도 같은 순서로 구할 수 있다. 그리고 그때는 중간까지 구현한 미분 결과를 공유 할 수 있어서 다수의 미분을 효율적으로 계산 할 수 있다.  이처럼 계산 그래프의 이점은 순전파와 역전파를 활용해서 각 변수의 미분을 효율적으로 구할 수 있다는 것이다.  "
   ]
  },
  {
   "cell_type": "markdown",
   "metadata": {},
   "source": [
    "# 5.2 연쇄법칙"
   ]
  },
  {
   "cell_type": "markdown",
   "metadata": {},
   "source": [
    "---------"
   ]
  },
  {
   "cell_type": "markdown",
   "metadata": {},
   "source": [
    "## 5.2.1 계산 그래프의 역전파  \n",
    "\n",
    "y=f(x)라는 계산의 역전파를 그림으로 보자."
   ]
  },
  {
   "cell_type": "markdown",
   "metadata": {},
   "source": [
    "![2](https://github.com/JungMinNoh/jungminnoh/blob/master/10.jpg?raw=true)"
   ]
  },
  {
   "cell_type": "markdown",
   "metadata": {},
   "source": [
    "그림 5-6 과 같이 역전파의 계산 절차는 신호 E에 노드의 국소적 미분(ay/ax)를 곱한 후 다음 노드로 전달 하는 것이다.  \n",
    "여기서 말하는 국소적 미분은 순전파 때의 y=f(x) 계산의 미분을 구한다는 것 이며, 이는 x에 대한 미분 y (ay/ax)를 구한다는것이다.  \n",
    "예를 들어 y= x^2 이면 ay/ax=2x가 된다."
   ]
  },
  {
   "cell_type": "markdown",
   "metadata": {},
   "source": [
    "이것이 역전파의 계산 순서인데, 이러한 방식을 따르면 목표로 하는 미분 값을 효율적으로 구할 수 있다는것이 이 전파의 핵심이다. "
   ]
  },
  {
   "cell_type": "markdown",
   "metadata": {},
   "source": [
    "## 5.2.2 연쇄 법칙 이란?"
   ]
  },
  {
   "cell_type": "markdown",
   "metadata": {},
   "source": [
    "생략."
   ]
  },
  {
   "cell_type": "markdown",
   "metadata": {},
   "source": [
    "## 5.2.3 연쇄 법칙과 계산 그래프"
   ]
  },
  {
   "cell_type": "markdown",
   "metadata": {},
   "source": [
    "<script type=\"text/javascript\" src=\"https://cdn.mathjax.org/mathjax/latest/MathJax.js?config=TeX-AMS_HTML\"></script>\n",
    "\n",
    "### 식 5.3 $$ \\frac{\\partial z}{\\partial t} = 2t $$    "
   ]
  },
  {
   "cell_type": "markdown",
   "metadata": {},
   "source": [
    "<script type=\"text/javascript\" src=\"https://cdn.mathjax.org/mathjax/latest/MathJax.js?config=TeX-AMS_HTML\"></script>\n",
    "### $$ \\frac{\\partial t}{\\partial x} = 1 $$ "
   ]
  },
  {
   "cell_type": "markdown",
   "metadata": {},
   "source": [
    "<script type=\"text/javascript\" src=\"https://cdn.mathjax.org/mathjax/latest/MathJax.js?config=TeX-AMS_HTML\"></script>\n",
    "\n",
    "### 식 5.4 $$ \\frac{\\partial z}{\\partial x} = \\frac{\\partial z}{\\partial t} \\frac{\\partial t}{\\partial x} = 2t \\times  1 = 2(x+y) $$ "
   ]
  },
  {
   "cell_type": "raw",
   "metadata": {},
   "source": [
    "식 5.4의 연쇄 법칙 계산을 계산 그래프로 나타내 보자. 2제곱 계산을 **2 노드로 나타냈다."
   ]
  },
  {
   "cell_type": "markdown",
   "metadata": {},
   "source": [
    "식 5.4의 연쇄 법칙 계산을 계산 그래프로 나타내 보자. 2제곱 계산을 **2 노드로 나타냈다."
   ]
  },
  {
   "cell_type": "markdown",
   "metadata": {},
   "source": [
    "![2](https://github.com/JungMinNoh/jungminnoh/blob/master/9.jpg?raw=true)"
   ]
  },
  {
   "cell_type": "markdown",
   "metadata": {},
   "source": [
    "![2](https://github.com/JungMinNoh/jungminnoh/blob/master/8.jpg?raw=true)"
   ]
  },
  {
   "cell_type": "markdown",
   "metadata": {},
   "source": [
    "# 5.3 역전파\n",
    "---"
   ]
  },
  {
   "cell_type": "markdown",
   "metadata": {},
   "source": [
    "앞 절에서는 계산 그래프의 역전파가 연쇄법칙에 따라 진행 되는 모습을 설명 했다. 이번 절에서는 '+'와 'x'등의 연산을 예를 들어 역전파의 구조를 설명한다."
   ]
  },
  {
   "cell_type": "markdown",
   "metadata": {},
   "source": [
    "## 5.3.1 덧셈노드의 역전파"
   ]
  },
  {
   "cell_type": "markdown",
   "metadata": {},
   "source": [
    " z = x + y 라는 식을 대상으로 그 역전파를 살펴보자. 우선 z = x + y 의 미분을 다음과 같이 해석적으로 계산 할 수 있다."
   ]
  },
  {
   "cell_type": "markdown",
   "metadata": {},
   "source": [
    "<script type=\"text/javascript\" src=\"https://cdn.mathjax.org/mathjax/latest/MathJax.js?config=TeX-AMS_HTML\"></script>\n",
    "\n",
    "### 식 5.5 $$ \\frac{\\partial z}{\\partial x} = 1 $$    "
   ]
  },
  {
   "cell_type": "markdown",
   "metadata": {},
   "source": [
    "<script type=\"text/javascript\" src=\"https://cdn.mathjax.org/mathjax/latest/MathJax.js?config=TeX-AMS_HTML\"></script>\n",
    "\n",
    "###  $$ \\frac{\\partial z}{\\partial y} = 1 $$    "
   ]
  },
  {
   "cell_type": "markdown",
   "metadata": {},
   "source": [
    "![2](https://github.com/JungMinNoh/jungminnoh/blob/master/7.jpg?raw=true)"
   ]
  },
  {
   "cell_type": "markdown",
   "metadata": {},
   "source": [
    "![2](https://github.com/JungMinNoh/jungminnoh/blob/master/6.jpg?raw=true)"
   ]
  },
  {
   "cell_type": "markdown",
   "metadata": {},
   "source": [
    "![2](https://github.com/JungMinNoh/jungminnoh/blob/master/5.jpg?raw=true)"
   ]
  },
  {
   "cell_type": "markdown",
   "metadata": {},
   "source": [
    "## 5.3.2 곱셈노드의 역전파"
   ]
  },
  {
   "cell_type": "markdown",
   "metadata": {},
   "source": [
    "z = xy 라는 식을 생각해보자. 이 식의 미분은 다음과 같다."
   ]
  },
  {
   "cell_type": "markdown",
   "metadata": {},
   "source": [
    "<script type=\"text/javascript\" src=\"https://cdn.mathjax.org/mathjax/latest/MathJax.js?config=TeX-AMS_HTML\"></script>\n",
    "\n",
    "### 식 5.6 $$ \\frac{\\partial z}{\\partial x} = y $$    "
   ]
  },
  {
   "cell_type": "markdown",
   "metadata": {},
   "source": [
    "<script type=\"text/javascript\" src=\"https://cdn.mathjax.org/mathjax/latest/MathJax.js?config=TeX-AMS_HTML\"></script>\n",
    "\n",
    "###  $$ \\frac{\\partial z}{\\partial y} = x $$    "
   ]
  },
  {
   "cell_type": "markdown",
   "metadata": {},
   "source": [
    "![2](https://github.com/JungMinNoh/jungminnoh/blob/master/4.jpg?raw=true)"
   ]
  },
  {
   "cell_type": "markdown",
   "metadata": {},
   "source": [
    "![2](https://github.com/JungMinNoh/jungminnoh/blob/master/3.jpg?raw=true)"
   ]
  },
  {
   "cell_type": "markdown",
   "metadata": {},
   "source": [
    "곱셈 노드의 역전파는 상류의 값에 순전파 때의 입력 신호들을 '서로 바꾼 값'을 곱해서 하류로 보낸다. 서로 바꾼 값이란 그림 5-12 처럼 순전파 때 x 였다면 역전파에서는 y , 순전파때 y 였으면 역전파에서는 x로 바꾼다는 의미이다.  \n",
    "덧셈의 역전파에서는 상류의 값을 그대로 흘려보내서 순방향 입력신호의 값은 필요하지 않았지만, 곱셈의 역전파는 순방향 입력 신호의 값이 필요하다. 그래서 곱셈 노드를 구현 할 때는 순전파의 입력 신호를 변수에 저장해 둔다."
   ]
  },
  {
   "cell_type": "markdown",
   "metadata": {},
   "source": [
    "## 5.3.3 사과 쇼핑의 예"
   ]
  },
  {
   "cell_type": "markdown",
   "metadata": {},
   "source": [
    "![2](https://github.com/JungMinNoh/jungminnoh/blob/master/2.jpg?raw=true)"
   ]
  },
  {
   "cell_type": "markdown",
   "metadata": {},
   "source": [
    "이 문제 에서는 사과의 가격, 사과의 개수, 소비세 라는 세 변수 각각이 최종 금액에 어떻게 영향을 주느냐를 풀고자 한다.  \n",
    "이는 '사과 가격에 대한 지불 금액의 미분', '사과 개수에 대한 지불 금액의 미분', '소비세에 대한 지불금액의 미분'을 구하는것이 해당된다.  \n",
    "사과 가격의 미분은 2.2 사과 개수의 미분은 110 소비세의 미분은 200 이다. 이는 소비세ㅐ와 사가 가격이 같은 양 만큼 오르면 최종 금액에는 소비세가 200의 크기로, 사과 가격이 2.2 크기로 영향을 준다고 해석 할 수 있다.  (단, 소비세와 사과 가격의 단위가 다르니 주의 한다, 소비세 1은 100%, 사과 가격 1은 1원)"
   ]
  },
  {
   "cell_type": "markdown",
   "metadata": {},
   "source": [
    "![2](https://github.com/JungMinNoh/jungminnoh/blob/master/1.jpg?raw=true)"
   ]
  }
 ],
 "metadata": {
  "kernelspec": {
   "display_name": "Python 3",
   "language": "python",
   "name": "python3"
  },
  "language_info": {
   "codemirror_mode": {
    "name": "ipython",
    "version": 3
   },
   "file_extension": ".py",
   "mimetype": "text/x-python",
   "name": "python",
   "nbconvert_exporter": "python",
   "pygments_lexer": "ipython3",
   "version": "3.7.3"
  }
 },
 "nbformat": 4,
 "nbformat_minor": 2
}
