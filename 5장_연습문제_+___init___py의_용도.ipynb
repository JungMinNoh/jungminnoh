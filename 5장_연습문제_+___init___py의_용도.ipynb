{
  "nbformat": 4,
  "nbformat_minor": 0,
  "metadata": {
    "colab": {
      "name": "5장 연습문제 + __init__.py의 용도.ipynb",
      "provenance": [],
      "collapsed_sections": [],
      "include_colab_link": true
    },
    "kernelspec": {
      "name": "python3",
      "display_name": "Python 3"
    }
  },
  "cells": [
    {
      "cell_type": "markdown",
      "metadata": {
        "id": "view-in-github",
        "colab_type": "text"
      },
      "source": [
        "<a href=\"https://colab.research.google.com/github/JungMinNoh/jungminnoh/blob/master/5%EC%9E%A5_%EC%97%B0%EC%8A%B5%EB%AC%B8%EC%A0%9C_%2B___init___py%EC%9D%98_%EC%9A%A9%EB%8F%84.ipynb\" target=\"_parent\"><img src=\"https://colab.research.google.com/assets/colab-badge.svg\" alt=\"Open In Colab\"/></a>"
      ]
    },
    {
      "cell_type": "markdown",
      "metadata": {
        "id": "kg0CAjs7QPI5",
        "colab_type": "text"
      },
      "source": [
        "# 5장 연습문제 -14108334 노정민"
      ]
    },
    {
      "cell_type": "markdown",
      "metadata": {
        "id": "1IJ80-CIQTSP",
        "colab_type": "text"
      },
      "source": [
        "## Q1"
      ]
    },
    {
      "cell_type": "markdown",
      "metadata": {
        "id": "8m5wniiaQzml",
        "colab_type": "text"
      },
      "source": [
        "다음은 Calculator 클래스이다.\n",
        "\n",
        "class Calculator:   \n",
        "    def __init__(self):  \n",
        "        self.value = 0  \n",
        "  \n",
        "    def add(self, val):  \n",
        "        self.value += val  \n",
        "\n",
        "위 클래스를 상속하는 UpgradeCalculator를 만들고 값을 뺄 수 있는 minus 메서드를 추가해 보자.   \n",
        "즉 다음과 같이 동작하는 클래스를 만들어야 한다.  \n",
        "  \n",
        "cal = UpgradeCalculator()  \n",
        "cal.add(10)  \n",
        "cal.minus(7)  \n",
        "\n",
        "print(cal.value) # 10에서 7을 뺀 3을 출력  "
      ]
    },
    {
      "cell_type": "code",
      "metadata": {
        "id": "e368ESUiQlB_",
        "colab_type": "code",
        "colab": {
          "base_uri": "https://localhost:8080/",
          "height": 35
        },
        "outputId": "98b72f5d-a0aa-459a-f5af-9c8067ce6f00"
      },
      "source": [
        "class Calculator:\n",
        "    def __init__(self):\n",
        "        self.value = 0\n",
        "\n",
        "    def add(self, val):\n",
        "        self.value += val\n",
        "      \n",
        "class UpgradeCalculator(Calculator): #상속받아서 마이너스 메서드를 추가.\n",
        "    def minus(self, val):\n",
        "        self.value -= val\n",
        "\n",
        "cal = UpgradeCalculator()\n",
        "cal.add(10)\n",
        "cal.minus(7)\n",
        "\n",
        "print(cal.value) # 10에서 7을 뺀 3을 출력"
      ],
      "execution_count": 2,
      "outputs": [
        {
          "output_type": "stream",
          "text": [
            "3\n"
          ],
          "name": "stdout"
        }
      ]
    },
    {
      "cell_type": "markdown",
      "metadata": {
        "id": "9u_IqSJVQXdT",
        "colab_type": "text"
      },
      "source": [
        "## Q2\n"
      ]
    },
    {
      "cell_type": "markdown",
      "metadata": {
        "id": "Cz1jzxyhRYOW",
        "colab_type": "text"
      },
      "source": [
        "객체변수 value가 100 이상의 값은 가질 수 없도록 제한하는 MaxLimitCalculator 클래스를 만들어 보자. 즉 다음과 같이 동작해야 한다.\n",
        " \n",
        "cal = MaxLimitCalculator()  \n",
        "cal.add(50) # 50 더하기  \n",
        "cal.add(60) # 60 더하기  \n",
        "  \n",
        "print(cal.value) # 100 출력  \n",
        "\n",
        "단 반드시 다음과 같은 Calculator 클래스를 상속해서 만들어야 한다.  \n",
        "\n",
        "class Calculator:  \n",
        "    def __init__(self):  \n",
        "        self.value = 0  \n",
        "  \n",
        "    def add(self, val):  \n",
        "        self.value += val  "
      ]
    },
    {
      "cell_type": "code",
      "metadata": {
        "id": "flIx328TRWTH",
        "colab_type": "code",
        "colab": {
          "base_uri": "https://localhost:8080/",
          "height": 35
        },
        "outputId": "fd6da4f3-bd67-4998-b117-1df63ab96998"
      },
      "source": [
        "class MaxLimitCalculator(Calculator): #아까 정의 했던 계산기를 상속.\n",
        "    def add(self, val):\n",
        "        self.value += val\n",
        "        if self.value > 100:\n",
        "            self.value = 100\n",
        "            \n",
        "cal = MaxLimitCalculator()\n",
        "cal.add(50) # 50 더하기\n",
        "cal.add(60) # 60 더하기\n",
        "\n",
        "print(cal.value) # 100 출력\n",
        "            "
      ],
      "execution_count": 3,
      "outputs": [
        {
          "output_type": "stream",
          "text": [
            "100\n"
          ],
          "name": "stdout"
        }
      ]
    },
    {
      "cell_type": "markdown",
      "metadata": {
        "id": "9PAN1XKMQXiv",
        "colab_type": "text"
      },
      "source": [
        "## Q3"
      ]
    },
    {
      "cell_type": "markdown",
      "metadata": {
        "id": "CLhDAHbYSBOA",
        "colab_type": "text"
      },
      "source": [
        "다음 결과를 예측해 보자.\n",
        " \n",
        "하나.  \n",
        "\n",
        "all([1, 2, abs(-3)-3])  \n",
        "둘.  \n",
        "\n",
        "chr(ord('a')) == 'a'  "
      ]
    },
    {
      "cell_type": "code",
      "metadata": {
        "id": "RgruBLqwSFJe",
        "colab_type": "code",
        "colab": {
          "base_uri": "https://localhost:8080/",
          "height": 35
        },
        "outputId": "cc587906-1987-47f8-e77c-a6c1d2f268db"
      },
      "source": [
        " all([1, 2, abs(-3)-3])"
      ],
      "execution_count": 4,
      "outputs": [
        {
          "output_type": "execute_result",
          "data": {
            "text/plain": [
              "False"
            ]
          },
          "metadata": {
            "tags": []
          },
          "execution_count": 4
        }
      ]
    },
    {
      "cell_type": "code",
      "metadata": {
        "id": "TMXZeQUlSXuq",
        "colab_type": "code",
        "colab": {}
      },
      "source": [
        "# abs(-3)은 -3의 절댓값이므로 3이 되어 all([1, 2, 0])이 되고, 리스트의 요솟값중 0이 있기 때문에 all 내장 함수의 결과는 False가 된다."
      ],
      "execution_count": 0,
      "outputs": []
    },
    {
      "cell_type": "code",
      "metadata": {
        "id": "gCyk_5yLSH60",
        "colab_type": "code",
        "colab": {
          "base_uri": "https://localhost:8080/",
          "height": 35
        },
        "outputId": "00df54ad-b7df-4876-92f3-8a071c878602"
      },
      "source": [
        "chr(ord('a')) == 'a'"
      ],
      "execution_count": 5,
      "outputs": [
        {
          "output_type": "execute_result",
          "data": {
            "text/plain": [
              "True"
            ]
          },
          "metadata": {
            "tags": []
          },
          "execution_count": 5
        }
      ]
    },
    {
      "cell_type": "code",
      "metadata": {
        "id": "eVOXKaC6STci",
        "colab_type": "code",
        "colab": {}
      },
      "source": [
        "# ord('a') 의 결과는 97이 되어 chr(97)로 치환된다. chr(97)의 결과는 다시 'a'가 되므로 'a' == 'a'가 되어 True를 돌려준다."
      ],
      "execution_count": 0,
      "outputs": []
    },
    {
      "cell_type": "markdown",
      "metadata": {
        "id": "twShpmVhQXku",
        "colab_type": "text"
      },
      "source": [
        "## Q4"
      ]
    },
    {
      "cell_type": "markdown",
      "metadata": {
        "id": "XCeK7zvZSAvf",
        "colab_type": "text"
      },
      "source": [
        "filter와 lambda를 사용하여 리스트 [1, -2, 3, -5, 8, -3]에서 음수를 모두 제거해 보자."
      ]
    },
    {
      "cell_type": "markdown",
      "metadata": {
        "id": "dcouwWwsShm3",
        "colab_type": "text"
      },
      "source": [
        "음수를 제거하기 위한 filter의 함수로 lambda 함수를 다음과 같이 만들어 실행한다."
      ]
    },
    {
      "cell_type": "code",
      "metadata": {
        "id": "HMS_lJgqShR5",
        "colab_type": "code",
        "colab": {
          "base_uri": "https://localhost:8080/",
          "height": 35
        },
        "outputId": "eba24213-32ca-4142-8bfb-69fa19777299"
      },
      "source": [
        "list(filter(lambda x:x>0, [1, -2, 3, -5, 8, -3]))"
      ],
      "execution_count": 9,
      "outputs": [
        {
          "output_type": "execute_result",
          "data": {
            "text/plain": [
              "[1, 3, 8]"
            ]
          },
          "metadata": {
            "tags": []
          },
          "execution_count": 9
        }
      ]
    },
    {
      "cell_type": "markdown",
      "metadata": {
        "id": "0Yq76MS0QXmz",
        "colab_type": "text"
      },
      "source": [
        "## Q5"
      ]
    },
    {
      "cell_type": "markdown",
      "metadata": {
        "id": "Kzn3_8lSSrns",
        "colab_type": "text"
      },
      "source": [
        "234라는 10진수의 16진수는 다음과 같이 구할 수 있다."
      ]
    },
    {
      "cell_type": "code",
      "metadata": {
        "id": "lIl_XTbXSq2M",
        "colab_type": "code",
        "colab": {
          "base_uri": "https://localhost:8080/",
          "height": 35
        },
        "outputId": "5f2094d1-3002-4c30-a3e3-e1519812e7e1"
      },
      "source": [
        "hex(234)"
      ],
      "execution_count": 10,
      "outputs": [
        {
          "output_type": "execute_result",
          "data": {
            "text/plain": [
              "'0xea'"
            ]
          },
          "metadata": {
            "tags": []
          },
          "execution_count": 10
        }
      ]
    },
    {
      "cell_type": "markdown",
      "metadata": {
        "id": "ZtKpl6bVSyzi",
        "colab_type": "text"
      },
      "source": [
        "이번에는 반대로 16진수 문자열 0xea를 10진수로 변경해 보자."
      ]
    },
    {
      "cell_type": "code",
      "metadata": {
        "id": "CR_jLYPPSxGK",
        "colab_type": "code",
        "colab": {
          "base_uri": "https://localhost:8080/",
          "height": 35
        },
        "outputId": "62247922-2d0d-4a76-d2ea-e72dd65d5731"
      },
      "source": [
        "int('0xea', 16)"
      ],
      "execution_count": 12,
      "outputs": [
        {
          "output_type": "execute_result",
          "data": {
            "text/plain": [
              "234"
            ]
          },
          "metadata": {
            "tags": []
          },
          "execution_count": 12
        }
      ]
    },
    {
      "cell_type": "markdown",
      "metadata": {
        "id": "0pOcKQ7iQXon",
        "colab_type": "text"
      },
      "source": [
        "## Q6"
      ]
    },
    {
      "cell_type": "markdown",
      "metadata": {
        "id": "DX_TM6fTS3Ij",
        "colab_type": "text"
      },
      "source": [
        "map과 lambda를 사용하여 [1, 2, 3, 4] 리스트의 각 요솟값에 3이 곱해진 리스트 [3, 6, 9, 12]를 만들어 보자."
      ]
    },
    {
      "cell_type": "code",
      "metadata": {
        "id": "sl2SEAvkS3Qr",
        "colab_type": "code",
        "colab": {
          "base_uri": "https://localhost:8080/",
          "height": 35
        },
        "outputId": "1fbff0f4-15a2-4220-958a-30535ee405d3"
      },
      "source": [
        "list(map(lambda x:x*3, [1,2,3,4])) #입력에 항상 3을 곱하여 돌려 주는 lambda 함수를 다음과 같이 만들고 map과 조합하여 실행한다."
      ],
      "execution_count": 13,
      "outputs": [
        {
          "output_type": "execute_result",
          "data": {
            "text/plain": [
              "[3, 6, 9, 12]"
            ]
          },
          "metadata": {
            "tags": []
          },
          "execution_count": 13
        }
      ]
    },
    {
      "cell_type": "markdown",
      "metadata": {
        "id": "hE5pmZFoQXqZ",
        "colab_type": "text"
      },
      "source": [
        "## Q7"
      ]
    },
    {
      "cell_type": "markdown",
      "metadata": {
        "id": "qfnRv6xvTBxo",
        "colab_type": "text"
      },
      "source": [
        "다음 리스트의 최댓값과 최솟값의 합을 구해 보자.\n",
        "\n",
        "[-8, 2, 7, 5, -3, 5, 0, 1]"
      ]
    },
    {
      "cell_type": "code",
      "metadata": {
        "id": "fheGdjtlTE1N",
        "colab_type": "code",
        "colab": {
          "base_uri": "https://localhost:8080/",
          "height": 35
        },
        "outputId": "65659709-5320-4377-8133-7ffeeb87815b"
      },
      "source": [
        "a = [-8, 2, 7, 5, -3, 5, 0, 1]\n",
        "max(a) + min(a)"
      ],
      "execution_count": 14,
      "outputs": [
        {
          "output_type": "execute_result",
          "data": {
            "text/plain": [
              "-1"
            ]
          },
          "metadata": {
            "tags": []
          },
          "execution_count": 14
        }
      ]
    },
    {
      "cell_type": "markdown",
      "metadata": {
        "id": "GBSs1NPkQXsa",
        "colab_type": "text"
      },
      "source": [
        "## Q8"
      ]
    },
    {
      "cell_type": "markdown",
      "metadata": {
        "id": "rFaX0LcMTIR3",
        "colab_type": "text"
      },
      "source": [
        "17 / 3의 결과는 다음과 같다."
      ]
    },
    {
      "cell_type": "code",
      "metadata": {
        "id": "ZaLjy7eUTMtD",
        "colab_type": "code",
        "colab": {
          "base_uri": "https://localhost:8080/",
          "height": 35
        },
        "outputId": "ffdde837-95d0-47eb-d51c-328532853608"
      },
      "source": [
        " 17 / 3"
      ],
      "execution_count": 15,
      "outputs": [
        {
          "output_type": "execute_result",
          "data": {
            "text/plain": [
              "5.666666666666667"
            ]
          },
          "metadata": {
            "tags": []
          },
          "execution_count": 15
        }
      ]
    },
    {
      "cell_type": "markdown",
      "metadata": {
        "id": "GUx6W8ZxTL4R",
        "colab_type": "text"
      },
      "source": [
        "위와 같은 결괏값 5.666666666666667을 소숫점 4자리까지만 반올림하여 표시해 보자."
      ]
    },
    {
      "cell_type": "code",
      "metadata": {
        "id": "7LYgW0C6TP2P",
        "colab_type": "code",
        "colab": {
          "base_uri": "https://localhost:8080/",
          "height": 35
        },
        "outputId": "0597b92e-4d99-452b-c7a7-a3569eb476f5"
      },
      "source": [
        "round(17/3, 4) #round 내장 함수를 사용하면 다음과 같이 반올림하여 소수점 4자리까지 표시할 수 있다."
      ],
      "execution_count": 16,
      "outputs": [
        {
          "output_type": "execute_result",
          "data": {
            "text/plain": [
              "5.6667"
            ]
          },
          "metadata": {
            "tags": []
          },
          "execution_count": 16
        }
      ]
    },
    {
      "cell_type": "markdown",
      "metadata": {
        "id": "sWOBN7afQXuI",
        "colab_type": "text"
      },
      "source": [
        "## Q9"
      ]
    },
    {
      "cell_type": "markdown",
      "metadata": {
        "id": "ZEnxy1GETJ-_",
        "colab_type": "text"
      },
      "source": [
        "다음과 같이 실행할 때 입력값을 모두 더하여 출력하는 스크립트(C:\\doit\\myargv.py)를 작성해 보자.  \n",
        "\n",
        "C:\\> cd doit  \n",
        "C:\\doit> python myargv.py 1 2 3 4 5 6 7 8 9 10  \n",
        "55  \n",
        "\n",
        "※ 외장 함수 sys.argv를 사용해 보자.  "
      ]
    },
    {
      "cell_type": "code",
      "metadata": {
        "id": "ajga4YJ2Tj7I",
        "colab_type": "code",
        "colab": {
          "base_uri": "https://localhost:8080/",
          "height": 136
        },
        "outputId": "cda548e5-9024-4d13-c56b-f6dbe9eddef2"
      },
      "source": [
        "C:\\> cd doit\n",
        "C:\\doit> python myargv.py 1 2 3 4 5 6 7 8 9 10\n",
        "55\n",
        "\n",
        "import sys\n",
        "\n",
        "numbers = sys.argv[1:] # 파일 이름을 제외한 명령 행의 모든 입력\n",
        "\n",
        "result = 0\n",
        "for number in numbers:\n",
        "    result += int(number)\n",
        "print(result)"
      ],
      "execution_count": 26,
      "outputs": [
        {
          "output_type": "error",
          "ename": "SyntaxError",
          "evalue": "ignored",
          "traceback": [
            "\u001b[0;36m  File \u001b[0;32m\"<ipython-input-26-fd63d16f9ac6>\"\u001b[0;36m, line \u001b[0;32m1\u001b[0m\n\u001b[0;31m    C:\\> cd doit\u001b[0m\n\u001b[0m                ^\u001b[0m\n\u001b[0;31mSyntaxError\u001b[0m\u001b[0;31m:\u001b[0m unexpected character after line continuation character\n"
          ]
        }
      ]
    },
    {
      "cell_type": "markdown",
      "metadata": {
        "id": "U2E0WWvwQXv-",
        "colab_type": "text"
      },
      "source": [
        "## Q10"
      ]
    },
    {
      "cell_type": "markdown",
      "metadata": {
        "id": "BS5e8jNvUDMx",
        "colab_type": "text"
      },
      "source": [
        "os 모듈을 사용하여 다음과 같이 동작하도록 코드를 작성해 보자.  \n",
        "   \n",
        "1.C:\\doit 디렉터리로 이동한다.  \n",
        "2.dir 명령을 실행하고 그 결과를 변수에 담는다.  \n",
        "3.dir 명령의 결과를 출력한다.  "
      ]
    },
    {
      "cell_type": "code",
      "metadata": {
        "id": "GlpH5iEHUIOJ",
        "colab_type": "code",
        "colab": {
          "base_uri": "https://localhost:8080/",
          "height": 226
        },
        "outputId": "7879c637-793b-47e9-a618-983e88800aad"
      },
      "source": [
        "import os\n",
        "os.chdir(\"c:/doit\") # 다음처럼 os 모듈의 chdir을 사용하여 C:\\doit 이라는 디렉터리로 이동한다.\n",
        "result = os.popen(\"dir\") # 그리고 다음처럼 os 모듈의 popen을 사용하여 시스템 명령어인 dir을 수행한다.\n",
        "print(result.read())"
      ],
      "execution_count": 19,
      "outputs": [
        {
          "output_type": "error",
          "ename": "FileNotFoundError",
          "evalue": "ignored",
          "traceback": [
            "\u001b[0;31m---------------------------------------------------------------------------\u001b[0m",
            "\u001b[0;31mFileNotFoundError\u001b[0m                         Traceback (most recent call last)",
            "\u001b[0;32m<ipython-input-19-83a7d8f46aa2>\u001b[0m in \u001b[0;36m<module>\u001b[0;34m()\u001b[0m\n\u001b[1;32m      1\u001b[0m \u001b[0;32mimport\u001b[0m \u001b[0mos\u001b[0m\u001b[0;34m\u001b[0m\u001b[0;34m\u001b[0m\u001b[0m\n\u001b[0;32m----> 2\u001b[0;31m \u001b[0mos\u001b[0m\u001b[0;34m.\u001b[0m\u001b[0mchdir\u001b[0m\u001b[0;34m(\u001b[0m\u001b[0;34m\"c:/doit\"\u001b[0m\u001b[0;34m)\u001b[0m \u001b[0;31m# 다음처럼 os 모듈의 chdir을 사용하여 C:\\doit 이라는 디렉터리로 이동한다.\u001b[0m\u001b[0;34m\u001b[0m\u001b[0;34m\u001b[0m\u001b[0m\n\u001b[0m\u001b[1;32m      3\u001b[0m \u001b[0mresult\u001b[0m \u001b[0;34m=\u001b[0m \u001b[0mos\u001b[0m\u001b[0;34m.\u001b[0m\u001b[0mpopen\u001b[0m\u001b[0;34m(\u001b[0m\u001b[0;34m\"dir\"\u001b[0m\u001b[0;34m)\u001b[0m \u001b[0;31m# 그리고 다음처럼 os 모듈의 popen을 사용하여 시스템 명령어인 dir을 수행한다.\u001b[0m\u001b[0;34m\u001b[0m\u001b[0;34m\u001b[0m\u001b[0m\n\u001b[1;32m      4\u001b[0m \u001b[0mprint\u001b[0m\u001b[0;34m(\u001b[0m\u001b[0mresult\u001b[0m\u001b[0;34m.\u001b[0m\u001b[0mread\u001b[0m\u001b[0;34m(\u001b[0m\u001b[0;34m)\u001b[0m\u001b[0;34m)\u001b[0m\u001b[0;34m\u001b[0m\u001b[0;34m\u001b[0m\u001b[0m\n",
            "\u001b[0;31mFileNotFoundError\u001b[0m: [Errno 2] No such file or directory: 'c:/doit'"
          ]
        }
      ]
    },
    {
      "cell_type": "markdown",
      "metadata": {
        "id": "jDy6xFZhQXx5",
        "colab_type": "text"
      },
      "source": [
        "## Q11"
      ]
    },
    {
      "cell_type": "markdown",
      "metadata": {
        "id": "NFcabU4rUlQd",
        "colab_type": "text"
      },
      "source": [
        "glob 모듈을 사용하여 C:\\doit 디렉터리의 파일 중 확장자가 .py인 파일만 출력하는 프로그램을 작성해 보자."
      ]
    },
    {
      "cell_type": "code",
      "metadata": {
        "id": "3mS4nYPaUqkg",
        "colab_type": "code",
        "colab": {
          "base_uri": "https://localhost:8080/",
          "height": 35
        },
        "outputId": "b89727ce-367b-4477-97f1-9c01d3504039"
      },
      "source": [
        "import glob\n",
        "glob.glob(\"c:/doit/*.py\")"
      ],
      "execution_count": 21,
      "outputs": [
        {
          "output_type": "execute_result",
          "data": {
            "text/plain": [
              "[]"
            ]
          },
          "metadata": {
            "tags": []
          },
          "execution_count": 21
        }
      ]
    },
    {
      "cell_type": "markdown",
      "metadata": {
        "id": "Z5_-MQnVQXz6",
        "colab_type": "text"
      },
      "source": [
        "## Q12"
      ]
    },
    {
      "cell_type": "markdown",
      "metadata": {
        "id": "QRjoLVC6UxyG",
        "colab_type": "text"
      },
      "source": [
        "time 모듈을 사용하여 현재 날짜와 시간을 다음과 같은 형식으로 출력해 보자.\n",
        "\n",
        "2018/04/03 17:20:32"
      ]
    },
    {
      "cell_type": "code",
      "metadata": {
        "id": "vHqij9ITU0Eq",
        "colab_type": "code",
        "colab": {
          "base_uri": "https://localhost:8080/",
          "height": 35
        },
        "outputId": "3787ac6e-f059-4c00-825f-2c160f353a72"
      },
      "source": [
        "import time  # time 모듈의 strftime을 사용하여 다음과 같이 작성한다.\n",
        "time.strftime(\"%Y/%m/%d %H:%M:%S\") # %Y:년, %m:월, %d:일, %H:시, %M:분, %S:초"
      ],
      "execution_count": 22,
      "outputs": [
        {
          "output_type": "execute_result",
          "data": {
            "text/plain": [
              "'2019/10/09 16:22:00'"
            ]
          },
          "metadata": {
            "tags": []
          },
          "execution_count": 22
        }
      ]
    },
    {
      "cell_type": "markdown",
      "metadata": {
        "id": "4FwETPAPQjOk",
        "colab_type": "text"
      },
      "source": [
        "## Q13"
      ]
    },
    {
      "cell_type": "markdown",
      "metadata": {
        "id": "yg1WbOR5U_T6",
        "colab_type": "text"
      },
      "source": [
        "random 모듈을 사용하여 로또 번호(1~45 사이의 숫자 6개)를 생성해 보자(단 중복된 숫자가 있으면 안됨)."
      ]
    },
    {
      "cell_type": "code",
      "metadata": {
        "id": "OfxV5JbJQjrP",
        "colab_type": "code",
        "colab": {
          "base_uri": "https://localhost:8080/",
          "height": 35
        },
        "outputId": "2c260ebd-7869-4a94-ae12-0ee7792e52c3"
      },
      "source": [
        "import random\n",
        "\n",
        "result = []\n",
        "while len(result) < 6:\n",
        "    num = random.randint(1, 45)   # 1부터 45까지의 난수 발생\n",
        "    if num not in result:\n",
        "        result.append(num)\n",
        "\n",
        "print(result)"
      ],
      "execution_count": 23,
      "outputs": [
        {
          "output_type": "stream",
          "text": [
            "[45, 44, 11, 5, 19, 17]\n"
          ],
          "name": "stdout"
        }
      ]
    },
    {
      "cell_type": "markdown",
      "metadata": {
        "id": "RRgj8QpDVHAs",
        "colab_type": "text"
      },
      "source": [
        "----------"
      ]
    },
    {
      "cell_type": "markdown",
      "metadata": {
        "id": "6KuT99L5VIpU",
        "colab_type": "text"
      },
      "source": [
        "# __init__.py의 용도"
      ]
    },
    {
      "cell_type": "markdown",
      "metadata": {
        "id": "lsEo8MFuY-Z2",
        "colab_type": "text"
      },
      "source": [
        "위 파일들은 하나의 경로에 하나의 파일로 존재합니다.예를들어 아래와 같이 존재합니다."
      ]
    },
    {
      "cell_type": "markdown",
      "metadata": {
        "id": "DNXAmFG3a-VN",
        "colab_type": "text"
      },
      "source": [
        "![예시](https://webisfree.com/static/uploads/2017/2214_171109_093203_697_crop_432x338.jpg)"
      ]
    },
    {
      "cell_type": "markdown",
      "metadata": {
        "id": "ssIXjLicbJmM",
        "colab_type": "text"
      },
      "source": [
        " 그림은 myApp.py라는 파일이 존재하고 경로 moduleA가 있는 경우를 나타냅니다. 이때 moduleA 안에는__init__.py파일이 존재하게됩니다."
      ]
    },
    {
      "cell_type": "markdown",
      "metadata": {
        "id": "oQ-bvFd7bXWA",
        "colab_type": "text"
      },
      "source": [
        "#### 패키지 모듈로서 사용하기 위한 목적"
      ]
    },
    {
      "cell_type": "markdown",
      "metadata": {
        "id": "rNpApyCCbbPH",
        "colab_type": "text"
      },
      "source": [
        "이들의 역할은 파일이 위치한 경로를 패키지 모듈처럼 사용할 수 있도록 해주는 매우 중요한 기능을 수행합니다.   \n",
        "쉽게 말하면 우리가 패키지의 모듈을 추가할때 사용하는 from, import를 이 경로에 사용할 수 있다는 점입니다.  \n",
        "만약 이런 기능이 없다면 모듈을 찾는 경로를 config에 설정해야만 사용할 수 있어 매우 번거롭죠.    \n",
        "만약 해당 경로에 위치한 파일 getName.py을 import하는 경우 아래처럼 쓸 수 있을 것입니다.  \n",
        "\n",
        "\n",
        "! myApp.py  \n",
        "\n",
        "from moduleA import getName  "
      ]
    },
    {
      "cell_type": "markdown",
      "metadata": {
        "id": "K9FMmybLcEeL",
        "colab_type": "text"
      },
      "source": [
        "참고 주소 : https://webisfree.com/2017-11-06/python%EC%97%90%EC%84%9C-init-py%EC%9D%98-%EC%97%AD%ED%95%A0-%EB%B0%8F-%EC%98%88%EC%A0%9C-%EC%95%8C%EC%95%84%EB%B3%B4%EA%B8%B0"
      ]
    },
    {
      "cell_type": "code",
      "metadata": {
        "id": "mgOw_v-6cFuv",
        "colab_type": "code",
        "colab": {}
      },
      "source": [
        ""
      ],
      "execution_count": 0,
      "outputs": []
    }
  ]
}