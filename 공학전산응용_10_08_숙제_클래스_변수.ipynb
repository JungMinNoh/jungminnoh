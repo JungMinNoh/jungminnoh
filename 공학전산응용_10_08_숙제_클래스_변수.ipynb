{
  "nbformat": 4,
  "nbformat_minor": 0,
  "metadata": {
    "colab": {
      "name": "공학전산응용 10.08 숙제 클래스 변수.ipynb",
      "provenance": []
    },
    "kernelspec": {
      "name": "python3",
      "display_name": "Python 3"
    }
  },
  "cells": [
    {
      "cell_type": "markdown",
      "metadata": {
        "id": "sxI0kxIEIDc4",
        "colab_type": "text"
      },
      "source": [
        "# 클래스 변수 - 14108334 노정민 (46번부터 오류 내용 있습니다.)"
      ]
    },
    {
      "cell_type": "markdown",
      "metadata": {
        "id": "KrVpl2oAIF8R",
        "colab_type": "text"
      },
      "source": [
        "객체변수는 다른 객체들에 영향받지 않고 독립적으로 그 값을 유지한다는 점을 이미 알아보았다. 이번에는 객체변수와는 성격이 다른 클래스 변수에 대해 알아보자."
      ]
    },
    {
      "cell_type": "code",
      "metadata": {
        "id": "cLhGucZ86zRq",
        "colab_type": "code",
        "colab": {}
      },
      "source": [
        "class Family:\n",
        "  lastname = \"김\"\n",
        "  "
      ],
      "execution_count": 0,
      "outputs": []
    },
    {
      "cell_type": "markdown",
      "metadata": {
        "id": "RDIohKAVIvzh",
        "colab_type": "text"
      },
      "source": [
        "Family 클래스에 선언한 lastname이 바로 클래스 변수이다. 클래스 변수는 클래스 안에 함수를 선언하는 것과 마찬가지로 클래스 안에 변수를 선언하여 생성한다."
      ]
    },
    {
      "cell_type": "code",
      "metadata": {
        "id": "mqkwZGHuIE2L",
        "colab_type": "code",
        "colab": {
          "base_uri": "https://localhost:8080/",
          "height": 53
        },
        "outputId": "f1a32923-f1ce-460e-99a0-3e059add4f9d"
      },
      "source": [
        "print(Family.lastname)\n",
        "id(Family.lastname)"
      ],
      "execution_count": 38,
      "outputs": [
        {
          "output_type": "stream",
          "text": [
            "김\n"
          ],
          "name": "stdout"
        },
        {
          "output_type": "execute_result",
          "data": {
            "text/plain": [
              "140106515421744"
            ]
          },
          "metadata": {
            "tags": []
          },
          "execution_count": 38
        }
      ]
    },
    {
      "cell_type": "markdown",
      "metadata": {
        "id": "R_taV8KsI3AN",
        "colab_type": "text"
      },
      "source": [
        "클래스 변수는 위 예와 같이 클래스이름.클래스 변수로 사용할 수 있다.\n",
        "\n",
        "또는 다음과 같이 Family 클래스로 만든 객체를 통해서도 클래스 변수를 사용할 수 있다."
      ]
    },
    {
      "cell_type": "code",
      "metadata": {
        "id": "eHa5eHvlIwL0",
        "colab_type": "code",
        "colab": {
          "base_uri": "https://localhost:8080/",
          "height": 71
        },
        "outputId": "cf2537f6-dbe8-440d-c4a8-55825310efe2"
      },
      "source": [
        "a = Family() # 객체를 만들어줌\n",
        "b = Family() # 객체를 만들어줌\n",
        "print(a.lastname)\n",
        "print(b.lastname)\n",
        "id(a.lastname)\n",
        "id(b.lastname)\n"
      ],
      "execution_count": 39,
      "outputs": [
        {
          "output_type": "stream",
          "text": [
            "김\n",
            "김\n"
          ],
          "name": "stdout"
        },
        {
          "output_type": "execute_result",
          "data": {
            "text/plain": [
              "140106515421744"
            ]
          },
          "metadata": {
            "tags": []
          },
          "execution_count": 39
        }
      ]
    },
    {
      "cell_type": "markdown",
      "metadata": {
        "id": "j4BZKTs-Jjgw",
        "colab_type": "text"
      },
      "source": [
        "만약 Family 클래스의 lastname을 다음과 같이 \"박\"이라는 문자열로 바꾸면 어떻게 될까?"
      ]
    },
    {
      "cell_type": "code",
      "metadata": {
        "id": "Wxr6nxHJI3OV",
        "colab_type": "code",
        "colab": {}
      },
      "source": [
        "Family.lastname = \"박\""
      ],
      "execution_count": 0,
      "outputs": []
    },
    {
      "cell_type": "code",
      "metadata": {
        "id": "hgFAqtaBJkJv",
        "colab_type": "code",
        "colab": {
          "base_uri": "https://localhost:8080/",
          "height": 53
        },
        "outputId": "2edf2348-0ead-4c14-a9d7-97ec7d47a03e"
      },
      "source": [
        "print(a.lastname)\n",
        "id(Family.lastname)"
      ],
      "execution_count": 41,
      "outputs": [
        {
          "output_type": "stream",
          "text": [
            "박\n"
          ],
          "name": "stdout"
        },
        {
          "output_type": "execute_result",
          "data": {
            "text/plain": [
              "140106515422464"
            ]
          },
          "metadata": {
            "tags": []
          },
          "execution_count": 41
        }
      ]
    },
    {
      "cell_type": "code",
      "metadata": {
        "id": "szc-5K2WJsEY",
        "colab_type": "code",
        "colab": {
          "base_uri": "https://localhost:8080/",
          "height": 53
        },
        "outputId": "88af0546-0a69-402f-c876-18706b57c49e"
      },
      "source": [
        "print(b.lastname)\n",
        "id(Family.lastname)"
      ],
      "execution_count": 42,
      "outputs": [
        {
          "output_type": "stream",
          "text": [
            "박\n"
          ],
          "name": "stdout"
        },
        {
          "output_type": "execute_result",
          "data": {
            "text/plain": [
              "140106515422464"
            ]
          },
          "metadata": {
            "tags": []
          },
          "execution_count": 42
        }
      ]
    },
    {
      "cell_type": "markdown",
      "metadata": {
        "id": "-e62pLbRJw6T",
        "colab_type": "text"
      },
      "source": [
        "클래스 변수 값을 변경했더니 클래스로 만든 객체의 lastname 값도 모두 변경된다는 것을 확인할 수 있다. 즉 클래스 변수는 클래스로 만든 모든 객체에 공유된다는 특징이 있다.\n",
        "\n",
        "id 함수를 사용하면 클래스 변수가 공유된다는 사실을 증명할 수 있다."
      ]
    },
    {
      "cell_type": "code",
      "metadata": {
        "id": "jQuyPnOYJz6y",
        "colab_type": "code",
        "colab": {
          "base_uri": "https://localhost:8080/",
          "height": 35
        },
        "outputId": "24435c07-235a-4b97-cd66-fe806b718759"
      },
      "source": [
        "id(Family.lastname)\n"
      ],
      "execution_count": 43,
      "outputs": [
        {
          "output_type": "execute_result",
          "data": {
            "text/plain": [
              "140106515422464"
            ]
          },
          "metadata": {
            "tags": []
          },
          "execution_count": 43
        }
      ]
    },
    {
      "cell_type": "code",
      "metadata": {
        "id": "qpq1OMvrJ5mj",
        "colab_type": "code",
        "colab": {
          "base_uri": "https://localhost:8080/",
          "height": 35
        },
        "outputId": "615ce51f-10ed-45df-ed8a-fc7433cc22ae"
      },
      "source": [
        "id(a.lastname)"
      ],
      "execution_count": 44,
      "outputs": [
        {
          "output_type": "execute_result",
          "data": {
            "text/plain": [
              "140106515422464"
            ]
          },
          "metadata": {
            "tags": []
          },
          "execution_count": 44
        }
      ]
    },
    {
      "cell_type": "code",
      "metadata": {
        "id": "3wIG4MWTJ86L",
        "colab_type": "code",
        "colab": {
          "base_uri": "https://localhost:8080/",
          "height": 35
        },
        "outputId": "edbd26fb-6115-4393-a57b-a1c4adf399cb"
      },
      "source": [
        "id(b.lastname)"
      ],
      "execution_count": 45,
      "outputs": [
        {
          "output_type": "execute_result",
          "data": {
            "text/plain": [
              "140106515422464"
            ]
          },
          "metadata": {
            "tags": []
          },
          "execution_count": 45
        }
      ]
    },
    {
      "cell_type": "markdown",
      "metadata": {
        "id": "IibSFb9XJ0j6",
        "colab_type": "text"
      },
      "source": [
        "id 값이 모두 같으므로 Family.lastname, a.lastname, b.lastname은 모두 같은 메모리를 가리키고 있다."
      ]
    },
    {
      "cell_type": "markdown",
      "metadata": {
        "id": "i4wPitnrM3DZ",
        "colab_type": "text"
      },
      "source": [
        "-----"
      ]
    },
    {
      "cell_type": "markdown",
      "metadata": {
        "id": "kQ_uTHYIM5Rj",
        "colab_type": "text"
      },
      "source": [
        "위 내용 까진 책 내용. -> 클래스 변수는 클래스로 만든 모든 객체에 공유한다는 특징이 있다고 했는데 오류를 찾아보자."
      ]
    },
    {
      "cell_type": "code",
      "metadata": {
        "id": "mDBoIw-IJ9rT",
        "colab_type": "code",
        "colab": {}
      },
      "source": [
        "c1 = Family()"
      ],
      "execution_count": 0,
      "outputs": []
    },
    {
      "cell_type": "code",
      "metadata": {
        "id": "KGae7SfdM33i",
        "colab_type": "code",
        "colab": {
          "base_uri": "https://localhost:8080/",
          "height": 53
        },
        "outputId": "83411dbb-eaa3-4048-ab4a-d77a0d966480"
      },
      "source": [
        "print(c1.lastname)\n",
        "id(c1.lastname)"
      ],
      "execution_count": 48,
      "outputs": [
        {
          "output_type": "stream",
          "text": [
            "박\n"
          ],
          "name": "stdout"
        },
        {
          "output_type": "execute_result",
          "data": {
            "text/plain": [
              "140106515422464"
            ]
          },
          "metadata": {
            "tags": []
          },
          "execution_count": 48
        }
      ]
    },
    {
      "cell_type": "code",
      "metadata": {
        "id": "M7owqN7oNJze",
        "colab_type": "code",
        "colab": {}
      },
      "source": [
        "c2 = Family()"
      ],
      "execution_count": 0,
      "outputs": []
    },
    {
      "cell_type": "code",
      "metadata": {
        "id": "gPV9xWN9NVy4",
        "colab_type": "code",
        "colab": {
          "base_uri": "https://localhost:8080/",
          "height": 53
        },
        "outputId": "0ac08b82-ca57-4701-f4cc-eb140b0e8996"
      },
      "source": [
        "print(c2.lastname)\n",
        "id(c2.lastname)"
      ],
      "execution_count": 50,
      "outputs": [
        {
          "output_type": "stream",
          "text": [
            "박\n"
          ],
          "name": "stdout"
        },
        {
          "output_type": "execute_result",
          "data": {
            "text/plain": [
              "140106515422464"
            ]
          },
          "metadata": {
            "tags": []
          },
          "execution_count": 50
        }
      ]
    },
    {
      "cell_type": "markdown",
      "metadata": {
        "id": "MncMm7ItNY6R",
        "colab_type": "text"
      },
      "source": [
        "여기까지는 클래스 객체의 주소가 같다. 이제 c2 객체를 수정해보자."
      ]
    },
    {
      "cell_type": "code",
      "metadata": {
        "id": "zX-CfejkNYRx",
        "colab_type": "code",
        "colab": {}
      },
      "source": [
        "c2.lastname = \"김\""
      ],
      "execution_count": 0,
      "outputs": []
    },
    {
      "cell_type": "code",
      "metadata": {
        "id": "PkztnEOANd6N",
        "colab_type": "code",
        "colab": {
          "base_uri": "https://localhost:8080/",
          "height": 53
        },
        "outputId": "aaafeffd-2675-40e2-b055-686084abac3f"
      },
      "source": [
        "print(c2.lastname)\n",
        "id(c2.lastname)"
      ],
      "execution_count": 52,
      "outputs": [
        {
          "output_type": "stream",
          "text": [
            "김\n"
          ],
          "name": "stdout"
        },
        {
          "output_type": "execute_result",
          "data": {
            "text/plain": [
              "140106515449376"
            ]
          },
          "metadata": {
            "tags": []
          },
          "execution_count": 52
        }
      ]
    },
    {
      "cell_type": "markdown",
      "metadata": {
        "id": "jY4wqy-oNudQ",
        "colab_type": "text"
      },
      "source": [
        "c2 객체의 변수를 박에서 김으로 바꿔주었다. 클래스 변수는 클래스로 만든 모든 객체에 공유한다는 점이 있다고 했는데 c1의 값도 바뀌었을까?"
      ]
    },
    {
      "cell_type": "code",
      "metadata": {
        "id": "Z0Vv-LZRNs61",
        "colab_type": "code",
        "colab": {
          "base_uri": "https://localhost:8080/",
          "height": 53
        },
        "outputId": "f68fb3fe-0fee-4bc8-f212-cb06706f45da"
      },
      "source": [
        "print(c1.lastname)\n",
        "id(c1.lastname)"
      ],
      "execution_count": 53,
      "outputs": [
        {
          "output_type": "stream",
          "text": [
            "박\n"
          ],
          "name": "stdout"
        },
        {
          "output_type": "execute_result",
          "data": {
            "text/plain": [
              "140106515422464"
            ]
          },
          "metadata": {
            "tags": []
          },
          "execution_count": 53
        }
      ]
    },
    {
      "cell_type": "markdown",
      "metadata": {
        "id": "l1VnWk5IN9Zu",
        "colab_type": "text"
      },
      "source": [
        "c1 객체의 변수 값은 수정 되지 않았다. 그럼 Family class의 변수 id는 바뀌었을까?"
      ]
    },
    {
      "cell_type": "code",
      "metadata": {
        "id": "2vCfPRyjN8aN",
        "colab_type": "code",
        "colab": {
          "base_uri": "https://localhost:8080/",
          "height": 53
        },
        "outputId": "da203ae0-c6ab-4ddc-c3d2-d3424750b611"
      },
      "source": [
        "print(Family.lastname)\n",
        "id(Family.lastname)"
      ],
      "execution_count": 56,
      "outputs": [
        {
          "output_type": "stream",
          "text": [
            "박\n"
          ],
          "name": "stdout"
        },
        {
          "output_type": "execute_result",
          "data": {
            "text/plain": [
              "140106515422464"
            ]
          },
          "metadata": {
            "tags": []
          },
          "execution_count": 56
        }
      ]
    },
    {
      "cell_type": "markdown",
      "metadata": {
        "id": "RcVBn5FoOtaM",
        "colab_type": "text"
      },
      "source": [
        "클래스 자체 변수의 주소가 바뀌지 않았다. 그 말은 즉슨 클래스 자체의 변수를 바꾸면 그 밑의 객체인 c1,c2 의 값은 공유 되지만 객체인 c1,c2 의 변수 값을 고친다고 클래스의 변수 주소값이 달라지지 않는 다는 말이다. 이를 증명 하기 위해서 객체의 변수값이 아닌 클래스 자체의 변수값을 바꿔보자."
      ]
    },
    {
      "cell_type": "code",
      "metadata": {
        "id": "-hlOe4mzOe0H",
        "colab_type": "code",
        "colab": {
          "base_uri": "https://localhost:8080/",
          "height": 53
        },
        "outputId": "24bc1930-1773-49df-c780-84214723a8ff"
      },
      "source": [
        "Family.lastname = \"최\"\n",
        "print(Family.lastname)\n",
        "id(Family.lastname)"
      ],
      "execution_count": 59,
      "outputs": [
        {
          "output_type": "stream",
          "text": [
            "최\n"
          ],
          "name": "stdout"
        },
        {
          "output_type": "execute_result",
          "data": {
            "text/plain": [
              "140106515451616"
            ]
          },
          "metadata": {
            "tags": []
          },
          "execution_count": 59
        }
      ]
    },
    {
      "cell_type": "code",
      "metadata": {
        "id": "h0l0yCytQf_3",
        "colab_type": "code",
        "colab": {
          "base_uri": "https://localhost:8080/",
          "height": 53
        },
        "outputId": "f44b69d7-1859-4cc2-ea44-ae578d412453"
      },
      "source": [
        "print(c1.lastname)\n",
        "id(c1.lastname)"
      ],
      "execution_count": 61,
      "outputs": [
        {
          "output_type": "stream",
          "text": [
            "최\n"
          ],
          "name": "stdout"
        },
        {
          "output_type": "execute_result",
          "data": {
            "text/plain": [
              "140106515451616"
            ]
          },
          "metadata": {
            "tags": []
          },
          "execution_count": 61
        }
      ]
    },
    {
      "cell_type": "code",
      "metadata": {
        "id": "AJbgibN_Q2Ce",
        "colab_type": "code",
        "colab": {
          "base_uri": "https://localhost:8080/",
          "height": 53
        },
        "outputId": "b01f7f82-0157-4fa1-ebf2-ce08eeb8a336"
      },
      "source": [
        "print(c2.lastname)\n",
        "id(c2.lastname)"
      ],
      "execution_count": 62,
      "outputs": [
        {
          "output_type": "stream",
          "text": [
            "김\n"
          ],
          "name": "stdout"
        },
        {
          "output_type": "execute_result",
          "data": {
            "text/plain": [
              "140106515449376"
            ]
          },
          "metadata": {
            "tags": []
          },
          "execution_count": 62
        }
      ]
    },
    {
      "cell_type": "markdown",
      "metadata": {
        "id": "VifrdPe9RGsQ",
        "colab_type": "text"
      },
      "source": [
        "교수님께서 말하신 오류를 찾았다. 클래스 자체의 변수를 바꿔주었으면 c2.lastname의 주소와 성씨가 같아야 하는데 '최'가 아닌'김'을 나타내고 있다."
      ]
    },
    {
      "cell_type": "markdown",
      "metadata": {
        "id": "oM-gF1dwRtFn",
        "colab_type": "text"
      },
      "source": [
        "개인적인 생각으로는, 51번째 명령어에서 실행한 c2.lastname = \"김\" 라는 곳에서 c2.lastname 을 문자열인 \"김\"으로 선언해주었기 떄문에 클래스 변수가 바뀌어도 그 밑의 객체인 c2 의 값이 바뀌지 않는게 아닐까 싶다."
      ]
    }
  ]
}